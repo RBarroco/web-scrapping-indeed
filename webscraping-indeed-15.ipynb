{
 "cells": [
  {
   "cell_type": "markdown",
   "metadata": {},
   "source": [
    "## Scraping job listings from Indeed.com¶"
   ]
  },
  {
   "cell_type": "markdown",
   "metadata": {},
   "source": [
    "<img src=\"./logo-renato-barroco.png\" >"
   ]
  },
  {
   "cell_type": "markdown",
   "metadata": {},
   "source": [
    "# 1. Web Scrapping steps"
   ]
  },
  {
   "cell_type": "code",
   "execution_count": 1,
   "metadata": {},
   "outputs": [],
   "source": [
    "# Indeed.com\n",
    "URL = \"https://www.indeed.com/jobs?q=data%20analyst&l=Nashville&vjk=f92dc432c9a65cd8\""
   ]
  },
  {
   "cell_type": "code",
   "execution_count": 2,
   "metadata": {},
   "outputs": [],
   "source": [
    "import requests\n",
    "import bs4\n",
    "import pandas as pd\n",
    "import numpy as np\n",
    "import seaborn as sns\n",
    "import matplotlib.pyplot as plt\n",
    "%matplotlib inline\n",
    "import warnings\n",
    "warnings.filterwarnings('ignore') # To supress warnings\n",
    "pd.set_option('display.float_format', lambda x: '%.5f' % x) # To supress numerical display in scientific notations\n",
    "sns.set(style=\"darkgrid\")\n",
    "\n",
    "from tqdm import tqdm\n",
    "from bs4 import BeautifulSoup"
   ]
  },
  {
   "cell_type": "markdown",
   "metadata": {},
   "source": [
    "Indeed.com - Indeed is a website \"text\" envinroment so Beautiful soup would be sufficient to scrapping. If we were talking about glassdoor, for example, seleium library would be necessary."
   ]
  },
  {
   "cell_type": "code",
   "execution_count": 3,
   "metadata": {},
   "outputs": [
    {
     "name": "stdout",
     "output_type": "stream",
     "text": [
      "<Response [200]>\n"
     ]
    }
   ],
   "source": [
    "# Resource object\n",
    "indeed_source = requests.get(URL)\n",
    "\n",
    "print(indeed_source)"
   ]
  },
  {
   "cell_type": "code",
   "execution_count": 4,
   "metadata": {},
   "outputs": [],
   "source": [
    "# Applying Beautiful soup on the source_indeed\n",
    "soup = BeautifulSoup(indeed_source.text, 'html.parser')"
   ]
  },
  {
   "cell_type": "code",
   "execution_count": 5,
   "metadata": {},
   "outputs": [],
   "source": [
    "# After applying it, soup became a text file parsed by html.parser, which we can access all the div with \"results\" on it.\n",
    "indeed_results = soup.find_all('div', class_='result')"
   ]
  },
  {
   "cell_type": "code",
   "execution_count": 6,
   "metadata": {},
   "outputs": [
    {
     "data": {
      "text/plain": [
       "15"
      ]
     },
     "execution_count": 6,
     "metadata": {},
     "output_type": "execute_result"
    }
   ],
   "source": [
    "len(indeed_results)"
   ]
  },
  {
   "cell_type": "code",
   "execution_count": 7,
   "metadata": {},
   "outputs": [
    {
     "name": "stdout",
     "output_type": "stream",
     "text": [
      "<div class=\"jobsearch-SerpJobCard unifiedRow row result\" data-jk=\"679d3ede04cb7748\" data-tn-component=\"organicJob\" id=\"p_679d3ede04cb7748\">\n",
      " <h2 class=\"title\">\n",
      "  <a class=\"jobtitle turnstileLink\" data-tn-element=\"jobTitle\" href=\"/rc/clk?jk=679d3ede04cb7748&amp;fccid=c78fdfc4443d4537&amp;vjs=3\" id=\"jl_679d3ede04cb7748\" onclick=\"setRefineByCookie([]); return rclk(this,jobmap[11],true,0);\" onmousedown=\"return rclk(this,jobmap[11],0);\" rel=\"noopener nofollow\" target=\"_blank\" title=\"Business Analyst\">\n",
      "   Business\n",
      "   <b>\n",
      "    Analyst\n",
      "   </b>\n",
      "  </a>\n",
      "  <span class=\"new\">\n",
      "   new\n",
      "  </span>\n",
      " </h2>\n",
      " <div class=\"sjcl\">\n",
      "  <div>\n",
      "   <span class=\"company\">\n",
      "    <a class=\"turnstileLink\" data-tn-element=\"companyName\" href=\"/cmp/Tcs\" onmousedown=\"this.href = appendParamsOnce(this.href, 'from=SERP&amp;campaignid=serp-linkcompanyname&amp;fromjk=679d3ede04cb7748&amp;jcid=c78fdfc4443d4537')\" rel=\"noopener\" target=\"_blank\">\n",
      "     TCS\n",
      "    </a>\n",
      "   </span>\n",
      "   <span class=\"ratingsDisplay\">\n",
      "    <a aria-label=\"Company rating 3.8 out of 5 stars\" class=\"ratingNumber\" data-tn-variant=\"cmplinktst2\" href=\"/cmp/Tcs/reviews\" onmousedown=\"this.href = appendParamsOnce(this.href, '?campaignid=cmplinktst2&amp;from=SERP&amp;jt=Business+Analyst&amp;fromjk=679d3ede04cb7748&amp;jcid=c78fdfc4443d4537');\" rel=\"noopener\" target=\"_blank\" title=\"Tcs reviews\">\n",
      "    </a>\n",
      "    <span class=\"ratingsContent\">\n",
      "     3.8\n",
      "     <svg class=\"starIcon\" height=\"12px\" role=\"img\" width=\"12px\">\n",
      "      <g>\n",
      "       <path d=\"M 12.00,4.34 C 12.00,4.34 7.69,3.97 7.69,3.97 7.69,3.97 6.00,0.00 6.00,0.00 6.00,0.00 4.31,3.98 4.31,3.98 4.31,3.98 0.00,4.34 0.00,4.34 0.00,4.34 3.28,7.18 3.28,7.18 3.28,7.18 2.29,11.40 2.29,11.40 2.29,11.40 6.00,9.16 6.00,9.16 6.00,9.16 9.71,11.40 9.71,11.40 9.71,11.40 8.73,7.18 8.73,7.18 8.73,7.18 12.00,4.34 12.00,4.34 Z\" style=\"fill: #FFB103\">\n",
      "       </path>\n",
      "      </g>\n",
      "     </svg>\n",
      "    </span>\n",
      "   </span>\n",
      "  </div>\n",
      " </div>\n",
      "</div>\n",
      "\n"
     ]
    }
   ],
   "source": [
    "#Looking into the indeed_results\n",
    "print(indeed_results[11].prettify())"
   ]
  },
  {
   "cell_type": "code",
   "execution_count": 8,
   "metadata": {},
   "outputs": [
    {
     "data": {
      "text/plain": [
       "[None,\n",
       " None,\n",
       " None,\n",
       " None,\n",
       " None,\n",
       " None,\n",
       " None,\n",
       " None,\n",
       " None,\n",
       " None,\n",
       " 'La Vergne, TN 37086',\n",
       " None,\n",
       " 'Nashville, TN',\n",
       " None,\n",
       " 'La Vergne, TN 37086']"
      ]
     },
     "execution_count": 8,
     "metadata": {},
     "output_type": "execute_result"
    }
   ],
   "source": [
    "# Extracting location\n",
    "location = [indeed_result.find('span', class_='location')\n",
    "             for indeed_result in indeed_results]\n",
    "\n",
    "location_text = []\n",
    "for element in location:\n",
    "    if element == None:\n",
    "        location_text.append(element)\n",
    "    else:\n",
    "        location_text.append(element.text)\n",
    "\n",
    "        \n",
    "location_text"
   ]
  },
  {
   "cell_type": "code",
   "execution_count": 9,
   "metadata": {},
   "outputs": [
    {
     "data": {
      "text/plain": [
       "['GEODIS',\n",
       " 'QuaverEd, Inc',\n",
       " 'Ryder System',\n",
       " 'Amazon.com Services LLC',\n",
       " 'Admin/Med/IT',\n",
       " 'Ramsey Solutions',\n",
       " 'OMNICOMMANDER',\n",
       " 'Sarah Cannon Network',\n",
       " 'Verbatim Pharma',\n",
       " 'Randstad',\n",
       " 'Thompson Machinery - Caterpillar',\n",
       " 'TCS',\n",
       " 'OneOncology',\n",
       " 'UnitedLex',\n",
       " 'VET ech']"
      ]
     },
     "execution_count": 9,
     "metadata": {},
     "output_type": "execute_result"
    }
   ],
   "source": [
    "# Extracting companies\n",
    "companies = [indeed_result.find ('span', class_='company').text.replace('\\n','')\n",
    "             for indeed_result in indeed_results]\n",
    "companies"
   ]
  },
  {
   "cell_type": "code",
   "execution_count": 10,
   "metadata": {},
   "outputs": [
    {
     "data": {
      "text/plain": [
       "['Data Analyst - Sales Performance',\n",
       " 'Business Data Analyst',\n",
       " 'Data Analyst II',\n",
       " 'Data Analyst',\n",
       " 'Data Analyst',\n",
       " 'Data Analyst',\n",
       " 'SEO Data Analyst',\n",
       " 'Manager, Clinical Data Analyst',\n",
       " 'Senior Data Analyst',\n",
       " 'Business Analyst',\n",
       " 'Data Analyst',\n",
       " 'Business Analyst',\n",
       " 'SENIOR DATA ANALYST',\n",
       " 'Data Analyst',\n",
       " 'Business Analyst']"
      ]
     },
     "execution_count": 10,
     "metadata": {},
     "output_type": "execute_result"
    }
   ],
   "source": [
    "# Extracting Title\n",
    "titles = [indeed_result.find ('a', class_='turnstileLink').text.replace('\\n','')\n",
    "             for indeed_result in indeed_results]\n",
    "titles"
   ]
  },
  {
   "cell_type": "code",
   "execution_count": 11,
   "metadata": {},
   "outputs": [
    {
     "data": {
      "text/plain": [
       "[None,\n",
       " 'Up to $55,000 a year',\n",
       " None,\n",
       " None,\n",
       " None,\n",
       " None,\n",
       " None,\n",
       " None,\n",
       " '$75,000 - $85,000 a year',\n",
       " None,\n",
       " None,\n",
       " None,\n",
       " None,\n",
       " None,\n",
       " '$40 - $45 an hour']"
      ]
     },
     "execution_count": 11,
     "metadata": {},
     "output_type": "execute_result"
    }
   ],
   "source": [
    "# Extracting salaries and keeping them in a list;\n",
    "salaries = []\n",
    "for indeed_result in indeed_results:\n",
    "    try:\n",
    "        salaries.append(indeed_result.find('span', class_='no-wrap').text.replace('\\n',''))\n",
    "    except:\n",
    "        salaries.append(None)\n",
    "salaries"
   ]
  },
  {
   "cell_type": "code",
   "execution_count": 12,
   "metadata": {},
   "outputs": [
    {
     "data": {
      "text/plain": [
       "[None,\n",
       " None,\n",
       " None,\n",
       " None,\n",
       " None,\n",
       " None,\n",
       " None,\n",
       " None,\n",
       " None,\n",
       " None,\n",
       " None,\n",
       " None,\n",
       " None,\n",
       " None,\n",
       " None]"
      ]
     },
     "execution_count": 12,
     "metadata": {},
     "output_type": "execute_result"
    }
   ],
   "source": [
    "# Job reviews inside of a list:\n",
    "job_reviews = []\n",
    "for indeed_result in indeed_results:\n",
    "    try:\n",
    "        job_reviews.append(indeed_result.find('span', class_='slNoUnderline').text.split(' ')[0].replace(',',''))\n",
    "    except:\n",
    "        job_reviews.append(None)\n",
    "        \n",
    "job_reviews"
   ]
  },
  {
   "cell_type": "code",
   "execution_count": 13,
   "metadata": {},
   "outputs": [
    {
     "data": {
      "text/plain": [
       "[None,\n",
       " 'Sales Forecasting - 3 Year Forward Customer Renewals.3+ years of experience, preferably in a sales-driven technology based company.',\n",
       " None,\n",
       " None,\n",
       " 'Ability to learn to utilize SAS and Tableau to manage data and create data visualization aids to provide actionable data to key stakeholders.',\n",
       " None,\n",
       " None,\n",
       " None,\n",
       " 'This will be in conjunction to managing the costing data project with LSP and Airlines, which is required for input into the data system.',\n",
       " None,\n",
       " 'Provide insight into the data’s meaning and how it can be used to make data-driven decisions.Manage the Thompson Machinery data warehouse to ensure accuracy…',\n",
       " None,\n",
       " 'Work closely with our BI team, as well as software engineers and clinical & strategic data analysts to enhance our data warehouse and design our business logic…',\n",
       " None,\n",
       " 'Business analyst: 1 year (Preferred).Bachelor’s in Business Administration or Equivalent with 5 years of related experience is must.']"
      ]
     },
     "execution_count": 13,
     "metadata": {},
     "output_type": "execute_result"
    }
   ],
   "source": [
    "# Job summary inside of a list:\n",
    "job_summary = []\n",
    "for indeed_result in indeed_results:\n",
    "    try:\n",
    "        job_summary.append(indeed_result.find('div', class_='summary').text.replace('\\n', ''))\n",
    "    except:\n",
    "        job_summary.append(None)\n",
    "        \n",
    "job_summary"
   ]
  },
  {
   "cell_type": "markdown",
   "metadata": {},
   "source": [
    "## Creating functions for each scrapping"
   ]
  },
  {
   "cell_type": "code",
   "execution_count": 14,
   "metadata": {},
   "outputs": [],
   "source": [
    "# Extracting location (C programming style, FUN!)\n",
    "def extract_location_from_result_C(result):\n",
    "    location = []\n",
    "    for indeed_result in result:\n",
    "        if indeed_result == None:\n",
    "            location.append(None)\n",
    "        else:\n",
    "            location.append(indeed_result.find('span', class_='location'))\n",
    "    \n",
    "    location_text =[]      \n",
    "    for element in location:\n",
    "        if element != None:\n",
    "            location_text.append(element.text)\n",
    "        else:\n",
    "            location_text.append(element)\n",
    "            \n",
    "    return location_text"
   ]
  },
  {
   "cell_type": "code",
   "execution_count": 15,
   "metadata": {},
   "outputs": [],
   "source": [
    "# Extracting Location_v2\n",
    "def extract_location_from_result(result):\n",
    "    try:\n",
    "        return result.find('div', class_='location').text\n",
    "    except:\n",
    "        return None    "
   ]
  },
  {
   "cell_type": "code",
   "execution_count": 16,
   "metadata": {},
   "outputs": [],
   "source": [
    "# Extracting companies\n",
    "def extract_companies_from_result(result):\n",
    "    try:\n",
    "        return result.find ('span', class_='company').text.replace('\\n','')\n",
    "    except:\n",
    "        return None"
   ]
  },
  {
   "cell_type": "code",
   "execution_count": 17,
   "metadata": {},
   "outputs": [],
   "source": [
    "# Extracting Titles\n",
    "def extract_title_from_result(result):\n",
    "    return result.find ('a', class_='turnstileLink').text.replace('\\n','')"
   ]
  },
  {
   "cell_type": "code",
   "execution_count": 18,
   "metadata": {},
   "outputs": [],
   "source": [
    "# Extracting Salaries\n",
    "def extract_salaries_from_result(result):\n",
    "    try:\n",
    "        return result.find('span', class_='no-wrap').text.replace('\\n','')\n",
    "    except:\n",
    "        return None #No salary"
   ]
  },
  {
   "cell_type": "code",
   "execution_count": 19,
   "metadata": {},
   "outputs": [],
   "source": [
    "# Extracting Jobs_reviews\n",
    "def extract_reviews_from_result(result):\n",
    "    try:\n",
    "        return result.find('span', class_='slNoUnderline').text.split(' ')[0].replace(',','')\n",
    "    except:\n",
    "        return None #No review"
   ]
  },
  {
   "cell_type": "code",
   "execution_count": 20,
   "metadata": {},
   "outputs": [],
   "source": [
    "# Extracting Summary\n",
    "def extract_summary_from_result(result):\n",
    "    try:\n",
    "        return result.find('div', class_='summary').text.replace('\\n','')\n",
    "    except:\n",
    "        return None #No summary"
   ]
  },
  {
   "cell_type": "code",
   "execution_count": 21,
   "metadata": {},
   "outputs": [
    {
     "name": "stdout",
     "output_type": "stream",
     "text": [
      "Locations: [None, 'Nashville, TN 37203', None, None, 'Nashville, TN', None, None, None, 'United States', None, None, None, None, None, None]\n",
      "\n",
      "Companies: ['GEODIS', 'QuaverEd, Inc', 'Ryder System', 'Amazon.com Services LLC', 'Admin/Med/IT', 'Ramsey Solutions', 'OMNICOMMANDER', 'Sarah Cannon Network', 'Verbatim Pharma', 'Randstad', 'Thompson Machinery - Caterpillar', 'TCS', 'OneOncology', 'UnitedLex', 'VET ech']\n",
      "\n",
      "Titles: ['Data Analyst - Sales Performance', 'Business Data Analyst', 'Data Analyst II', 'Data Analyst', 'Data Analyst', 'Data Analyst', 'SEO Data Analyst', 'Manager, Clinical Data Analyst', 'Senior Data Analyst', 'Business Analyst', 'Data Analyst', 'Business Analyst', 'SENIOR DATA ANALYST', 'Data Analyst', 'Business Analyst']\n",
      "\n",
      "Salaries: [None, 'Up to $55,000 a year', None, None, None, None, None, None, '$75,000 - $85,000 a year', None, None, None, None, None, '$40 - $45 an hour']\n",
      "\n",
      "Reviews: [None, None, None, None, None, None, None, None, None, None, None, None, None, None, None]\n",
      "\n",
      "Summaries: [None, 'Sales Forecasting - 3 Year Forward Customer Renewals.3+ years of experience, preferably in a sales-driven technology based company.', None, None, 'Ability to learn to utilize SAS and Tableau to manage data and create data visualization aids to provide actionable data to key stakeholders.', None, None, None, 'This will be in conjunction to managing the costing data project with LSP and Airlines, which is required for input into the data system.', None, 'Provide insight into the data’s meaning and how it can be used to make data-driven decisions.Manage the Thompson Machinery data warehouse to ensure accuracy…', None, 'Work closely with our BI team, as well as software engineers and clinical & strategic data analysts to enhance our data warehouse and design our business logic…', None, 'Business analyst: 1 year (Preferred).Bachelor’s in Business Administration or Equivalent with 5 years of related experience is must.']\n",
      "\n"
     ]
    }
   ],
   "source": [
    "# Functions in practice\n",
    "indeed_results = soup.find_all('div', class_='result')\n",
    "\n",
    "locations = [extract_location_from_result(indeed_result) for indeed_result in indeed_results]\n",
    "\n",
    "companies = [extract_companies_from_result(indeed_result) for indeed_result in indeed_results]\n",
    "\n",
    "titles = [extract_title_from_result(indeed_result) for indeed_result in indeed_results]\n",
    "\n",
    "salaries = [extract_salaries_from_result(indeed_result) for indeed_result in indeed_results]\n",
    "\n",
    "reviews = [extract_reviews_from_result(indeed_result) for indeed_result in indeed_results]\n",
    "\n",
    "summaries = [extract_summary_from_result(indeed_result) for indeed_result in indeed_results]\n",
    "\n",
    "print(f'Locations: {locations}\\n')\n",
    "print(f'Companies: {companies}\\n')\n",
    "print(f'Titles: {titles}\\n')\n",
    "print(f'Salaries: {salaries}\\n')\n",
    "print(f'Reviews: {reviews}\\n')\n",
    "print(f'Summaries: {summaries}\\n')"
   ]
  },
  {
   "cell_type": "markdown",
   "metadata": {},
   "source": [
    "<img src=\"./indeed-confirmation-2.png\"/>"
   ]
  },
  {
   "cell_type": "markdown",
   "metadata": {},
   "source": [
    "Above we have a simple check to confirm that our data is reflecting correclty the website."
   ]
  },
  {
   "cell_type": "markdown",
   "metadata": {},
   "source": [
    "# 2. Web scrapping exponential"
   ]
  },
  {
   "cell_type": "code",
   "execution_count": 29,
   "metadata": {},
   "outputs": [
    {
     "name": "stderr",
     "output_type": "stream",
     "text": [
      "  0%|                                                                                           | 0/77 [00:00<?, ?it/s]"
     ]
    },
    {
     "name": "stdout",
     "output_type": "stream",
     "text": [
      "City:  Milwaukee\n"
     ]
    },
    {
     "name": "stderr",
     "output_type": "stream",
     "text": [
      "100%|██████████████████████████████████████████████████████████████████████████████████| 77/77 [01:05<00:00,  1.17it/s]\n",
      "  0%|                                                                                           | 0/77 [00:00<?, ?it/s]"
     ]
    },
    {
     "name": "stdout",
     "output_type": "stream",
     "text": [
      "City:  St.+Louis\n"
     ]
    },
    {
     "name": "stderr",
     "output_type": "stream",
     "text": [
      "100%|██████████████████████████████████████████████████████████████████████████████████| 77/77 [00:58<00:00,  1.32it/s]\n",
      "  0%|                                                                                           | 0/77 [00:00<?, ?it/s]"
     ]
    },
    {
     "name": "stdout",
     "output_type": "stream",
     "text": [
      "City:  Cleveland\n"
     ]
    },
    {
     "name": "stderr",
     "output_type": "stream",
     "text": [
      "100%|██████████████████████████████████████████████████████████████████████████████████| 77/77 [01:38<00:00,  1.27s/it]\n",
      "  0%|                                                                                           | 0/77 [00:00<?, ?it/s]"
     ]
    },
    {
     "name": "stdout",
     "output_type": "stream",
     "text": [
      "City:  Pittsburgh\n"
     ]
    },
    {
     "name": "stderr",
     "output_type": "stream",
     "text": [
      "100%|██████████████████████████████████████████████████████████████████████████████████| 77/77 [01:02<00:00,  1.24it/s]\n",
      "  0%|                                                                                           | 0/77 [00:00<?, ?it/s]"
     ]
    },
    {
     "name": "stdout",
     "output_type": "stream",
     "text": [
      "City:  Cincinnati\n"
     ]
    },
    {
     "name": "stderr",
     "output_type": "stream",
     "text": [
      "100%|██████████████████████████████████████████████████████████████████████████████████| 77/77 [00:37<00:00,  2.07it/s]\n",
      "  0%|                                                                                           | 0/77 [00:00<?, ?it/s]"
     ]
    },
    {
     "name": "stdout",
     "output_type": "stream",
     "text": [
      "City:  Columbus\n"
     ]
    },
    {
     "name": "stderr",
     "output_type": "stream",
     "text": [
      "100%|██████████████████████████████████████████████████████████████████████████████████| 77/77 [00:32<00:00,  2.36it/s]\n",
      "  0%|                                                                                           | 0/77 [00:00<?, ?it/s]"
     ]
    },
    {
     "name": "stdout",
     "output_type": "stream",
     "text": [
      "City:  Charlotte\n"
     ]
    },
    {
     "name": "stderr",
     "output_type": "stream",
     "text": [
      "100%|██████████████████████████████████████████████████████████████████████████████████| 77/77 [00:25<00:00,  2.99it/s]\n",
      "  0%|                                                                                           | 0/77 [00:00<?, ?it/s]"
     ]
    },
    {
     "name": "stdout",
     "output_type": "stream",
     "text": [
      "City:  Detroit\n"
     ]
    },
    {
     "name": "stderr",
     "output_type": "stream",
     "text": [
      "100%|██████████████████████████████████████████████████████████████████████████████████| 77/77 [00:21<00:00,  3.56it/s]\n",
      "  0%|                                                                                           | 0/77 [00:00<?, ?it/s]"
     ]
    },
    {
     "name": "stdout",
     "output_type": "stream",
     "text": [
      "City:  Durham\n"
     ]
    },
    {
     "name": "stderr",
     "output_type": "stream",
     "text": [
      "100%|██████████████████████████████████████████████████████████████████████████████████| 77/77 [00:23<00:00,  3.23it/s]\n",
      "  0%|                                                                                           | 0/77 [00:00<?, ?it/s]"
     ]
    },
    {
     "name": "stdout",
     "output_type": "stream",
     "text": [
      "City:  Kansas+City\n"
     ]
    },
    {
     "name": "stderr",
     "output_type": "stream",
     "text": [
      "100%|██████████████████████████████████████████████████████████████████████████████████| 77/77 [00:29<00:00,  2.58it/s]\n",
      "  0%|                                                                                           | 0/77 [00:00<?, ?it/s]"
     ]
    },
    {
     "name": "stdout",
     "output_type": "stream",
     "text": [
      "City:  Houston\n"
     ]
    },
    {
     "name": "stderr",
     "output_type": "stream",
     "text": [
      "100%|██████████████████████████████████████████████████████████████████████████████████| 77/77 [00:56<00:00,  1.36it/s]\n",
      "  0%|                                                                                           | 0/77 [00:00<?, ?it/s]"
     ]
    },
    {
     "name": "stdout",
     "output_type": "stream",
     "text": [
      "City:  San+Antonio\n"
     ]
    },
    {
     "name": "stderr",
     "output_type": "stream",
     "text": [
      "100%|██████████████████████████████████████████████████████████████████████████████████| 77/77 [00:49<00:00,  1.55it/s]\n",
      "  0%|                                                                                           | 0/77 [00:00<?, ?it/s]"
     ]
    },
    {
     "name": "stdout",
     "output_type": "stream",
     "text": [
      "City:  Indianapolis\n"
     ]
    },
    {
     "name": "stderr",
     "output_type": "stream",
     "text": [
      "100%|██████████████████████████████████████████████████████████████████████████████████| 77/77 [00:32<00:00,  2.36it/s]\n",
      "  0%|                                                                                           | 0/77 [00:00<?, ?it/s]"
     ]
    },
    {
     "name": "stdout",
     "output_type": "stream",
     "text": [
      "City:  Phoenix\n"
     ]
    },
    {
     "name": "stderr",
     "output_type": "stream",
     "text": [
      "100%|██████████████████████████████████████████████████████████████████████████████████| 77/77 [00:22<00:00,  3.45it/s]\n",
      "  0%|                                                                                           | 0/77 [00:00<?, ?it/s]"
     ]
    },
    {
     "name": "stdout",
     "output_type": "stream",
     "text": [
      "City:  Dallas-Fort+Worth\n"
     ]
    },
    {
     "name": "stderr",
     "output_type": "stream",
     "text": [
      "100%|██████████████████████████████████████████████████████████████████████████████████| 77/77 [00:31<00:00,  2.48it/s]\n"
     ]
    }
   ],
   "source": [
    "URL_full = 'https://www.indeed.com/jobs?q=data%20analyst&l={}&vjk=f92dc432c9a65cd8'\n",
    "max_result_per_city = 1000\n",
    "\n",
    "results = []\n",
    "\n",
    "# Base on linkedin the first 15 cities bellow are the top to start living,\n",
    "# https://www.linkedin.com/pulse/top-15-us-cities-launch-your-career-george-anders/\n",
    "\n",
    "for city in set(['St.+Louis', 'Milwaukee', 'Cleveland', 'Cincinnati', 'Indianapolis',\n",
    "                 'Kansas+City', 'Pittsburgh', 'Detroit', 'Columbus','Houston', 'Durham',\n",
    "                 'Charlotte', 'San+Antonio', 'Phoenix', 'Dallas-Fort+Worth']):\n",
    "    print('City: ', city)\n",
    "    for element in tqdm(range(0, max_result_per_city, 13)):\n",
    "        # requesting data and building a list appended from it.\n",
    "        URL = URL_full.format(city, element)\n",
    "        indeed_source = requests.get(URL)\n",
    "        indeed_results_full = BeautifulSoup(indeed_source.text, 'html.parser')\n",
    "        # By passing the element city on the .append() method we can grab the city as well, for each job\n",
    "        results.append([indeed_results_full.find_all('div', class_='result'), city])\n",
    "        "
   ]
  },
  {
   "cell_type": "code",
   "execution_count": 30,
   "metadata": {},
   "outputs": [
    {
     "name": "stdout",
     "output_type": "stream",
     "text": [
      "1155 pages scraped.\n"
     ]
    }
   ],
   "source": [
    "print(f'{len(results)} pages scraped.')"
   ]
  },
  {
   "cell_type": "markdown",
   "metadata": {},
   "source": [
    "# 3. Creating Data Frame"
   ]
  },
  {
   "cell_type": "code",
   "execution_count": 31,
   "metadata": {},
   "outputs": [],
   "source": [
    "indeed_data = results.copy()"
   ]
  },
  {
   "cell_type": "code",
   "execution_count": 32,
   "metadata": {},
   "outputs": [
    {
     "data": {
      "text/plain": [
       "1155"
      ]
     },
     "execution_count": 32,
     "metadata": {},
     "output_type": "execute_result"
    }
   ],
   "source": [
    "len(indeed_data)"
   ]
  },
  {
   "cell_type": "code",
   "execution_count": 33,
   "metadata": {},
   "outputs": [
    {
     "data": {
      "text/plain": [
       "[<div class=\"jobsearch-SerpJobCard unifiedRow row result\" data-ci=\"356944272\" data-empn=\"8857116523758278\" data-jk=\"947ebaa9754ed699\" id=\"pj_947ebaa9754ed699\">\n",
       " <style>\n",
       " .jobcard_logo{margin:6px 0}.jobcard_logo img{width:auto;max-width:80px;max-height:30px}.jasxrefreshcombotst .jobcard_logo img{max-height:2rem;max-width:100%}\n",
       " </style>\n",
       " <h2 class=\"title\">\n",
       " <a class=\"jobtitle turnstileLink\" data-tn-element=\"jobTitle\" href=\"/pagead/clk?mo=r&amp;ad=-6NYlbfkN0D_S_Bp26r6tmG_kKxpmEktsuqHaNMuK3wVOID2ynVpI4RRqiGHRx6Z-bNHyDFktN1LVzyOeEVS1FOZMiCyYKTuHfAmwtQ0vvuHlxIlVJDuRgWmKBs3kCuqkXqDPSNiSFfhE0AUeiqokSLd2NWO6uAQGHvdQUjE2snhVTFHYzYZxY2UhTrgjnOTDZ8cTOddijkSf3zx7oqzwGtEyQzMOLYxJXOS3n4-fQJJF_60CEIw-i-UC-rxiaEz2wvRKRCJt9IT-qnq7XvZUxkbg3kDea-OOauC7LIB04U8czuoVIUG8KQEGAXeFWSFeKxLhIiHzfX2Rb2_L_w5LfuXWdXh0q91AFEBbu_vDZAsKGgemjO337EAZyMZXeDm8B4GxwJJkQX136f6FCwnXSuqOkCR8kiHhLdQNVOywGeDYjhvNnDyCKyIKcDYNL74jLYTe9u2zMF1MUWVMfIXvA==&amp;p=0&amp;fvj=0&amp;vjs=3\" id=\"sja0\" onclick=\"setRefineByCookie([]); sjoc('sja0', 0); convCtr('SJ'); rclk(this,jobmap[0],true,0);\" onmousedown=\"sjomd('sja0'); clk('sja0'); rclk(this,jobmap[0],0);\" rel=\"noopener nofollow\" target=\"_blank\" title=\"Data Analyst\">\n",
       " <b>Data</b> <b>Analyst</b></a>\n",
       " </h2>\n",
       " <div class=\"sjcl\">\n",
       " <div>\n",
       " <span class=\"company\">\n",
       " <a class=\"turnstileLink\" data-tn-element=\"companyName\" href=\"/cmp/Manpowergroup\" onmousedown=\"this.href = appendParamsOnce(this.href, 'from=SERP&amp;campaignid=serp-linkcompanyname&amp;fromjk=947ebaa9754ed699&amp;jcid=cd6cfac4cba99675')\" rel=\"noopener\" target=\"_blank\">\n",
       " ManpowerGroup</a></span>\n",
       " <span class=\"ratingsDisplay\">\n",
       " <a aria-label=\"Company rating 3.9 out of 5 stars\" class=\"ratingNumber\" data-tn-variant=\"cmplinktst2\" href=\"/cmp/Manpowergroup/reviews\" onmousedown=\"this.href = appendParamsOnce(this.href, '?campaignid=cmplinktst2&amp;from=SERP&amp;jt=Data+Analyst&amp;fromjk=947ebaa9754ed699&amp;jcid=cd6cfac4cba99675');\" rel=\"noopener\" target=\"_blank\" title=\"Manpowergroup reviews\"></a>\n",
       " <span class=\"ratingsContent\">\n",
       " 3.9<svg class=\"starIcon\" height=\"12px\" role=\"img\" width=\"12px\">\n",
       " <g>\n",
       " <path d=\"M 12.00,4.34 C 12.00,4.34 7.69,3.97 7.69,3.97 7.69,3.97 6.00,0.00 6.00,0.00 6.00,0.00 4.31,3.98 4.31,3.98 4.31,3.98 0.00,4.34 0.00,4.34 0.00,4.34 3.28,7.18 3.28,7.18 3.28,7.18 2.29,11.40 2.29,11.40 2.29,11.40 6.00,9.16 6.00,9.16 6.00,9.16 9.71,11.40 9.71,11.40 9.71,11.40 8.73,7.18 8.73,7.18 8.73,7.18 12.00,4.34 12.00,4.34 Z\" style=\"fill: #FFB103\"></path>\n",
       " </g>\n",
       " </svg>\n",
       " </span>\n",
       " </span></div></div></div>,\n",
       " <div class=\"jobsearch-SerpJobCard unifiedRow row result\" data-jk=\"52c669a401d56d27\" data-tn-component=\"organicJob\" id=\"p_52c669a401d56d27\">\n",
       " <h2 class=\"title\">\n",
       " <a class=\"jobtitle turnstileLink\" data-tn-element=\"jobTitle\" href=\"/company/NTT-DATA-Services/jobs/Data-Analyst-52c669a401d56d27?fccid=ac38a400acc8fe73&amp;vjs=3\" id=\"jl_52c669a401d56d27\" onclick=\"setRefineByCookie([]); return rclk(this,jobmap[1],true,1);\" onmousedown=\"return rclk(this,jobmap[1],1);\" rel=\"noopener nofollow\" target=\"_blank\" title=\"Data Analyst\">\n",
       " <b>Data</b> <b>Analyst</b></a>\n",
       " </h2>\n",
       " <div class=\"sjcl\">\n",
       " <div>\n",
       " <span class=\"company\">\n",
       " <a class=\"turnstileLink\" data-tn-element=\"companyName\" href=\"/cmp/Ntt-Data-Services\" onmousedown=\"this.href = appendParamsOnce(this.href, 'from=SERP&amp;campaignid=serp-linkcompanyname&amp;fromjk=52c669a401d56d27&amp;jcid=800c6ef45705c009')\" rel=\"noopener\" target=\"_blank\">\n",
       " NTT <b>DATA</b> Services</a></span>\n",
       " <span class=\"ratingsDisplay\">\n",
       " <a aria-label=\"Company rating 3.5 out of 5 stars\" class=\"ratingNumber\" data-tn-variant=\"cmplinktst2\" href=\"/cmp/Ntt-Data-Services/reviews\" onmousedown=\"this.href = appendParamsOnce(this.href, '?campaignid=cmplinktst2&amp;from=SERP&amp;jt=Data+Analyst&amp;fromjk=52c669a401d56d27&amp;jcid=800c6ef45705c009');\" rel=\"noopener\" target=\"_blank\" title=\"Ntt Data Services reviews\"></a>\n",
       " <span class=\"ratingsContent\">\n",
       " 3.5<svg class=\"starIcon\" height=\"12px\" role=\"img\" width=\"12px\">\n",
       " <g>\n",
       " <path d=\"M 12.00,4.34 C 12.00,4.34 7.69,3.97 7.69,3.97 7.69,3.97 6.00,0.00 6.00,0.00 6.00,0.00 4.31,3.98 4.31,3.98 4.31,3.98 0.00,4.34 0.00,4.34 0.00,4.34 3.28,7.18 3.28,7.18 3.28,7.18 2.29,11.40 2.29,11.40 2.29,11.40 6.00,9.16 6.00,9.16 6.00,9.16 9.71,11.40 9.71,11.40 9.71,11.40 8.73,7.18 8.73,7.18 8.73,7.18 12.00,4.34 12.00,4.34 Z\" style=\"fill: #FFB103\"></path>\n",
       " </g>\n",
       " </svg>\n",
       " </span>\n",
       " </span></div></div></div>,\n",
       " <div class=\"jobsearch-SerpJobCard unifiedRow row result\" data-ci=\"330293072\" data-empn=\"3724959386784008\" data-jk=\"f0ffa6ef103866c8\" id=\"pj_f0ffa6ef103866c8\">\n",
       " <style>\n",
       " .jobcard_logo{margin:6px 0}.jobcard_logo img{width:auto;max-width:80px;max-height:30px}.jasxrefreshcombotst .jobcard_logo img{max-height:2rem;max-width:100%}\n",
       " </style>\n",
       " <div class=\"jobcard_logo\">\n",
       " <a href=\"/cmp/Independent-Care-Health-Plan\" onmousedown=\"this.href = appendParamsOnce(this.href, 'tk=1eog8rpa9440g800&amp;campaignid=femp&amp;from=femp');\" rel=\"noopener\" target=\"_blank\">\n",
       " <img alt=\"Independent Care Health Plan logo\" src=\"https://d2q79iu7y748jz.cloudfront.net/s/_logo/510886a9745da67407a8805843dbe29e\"/>\n",
       " </a>\n",
       " </div>\n",
       " <h2 class=\"title\">\n",
       " <a class=\"jobtitle turnstileLink\" data-tn-element=\"jobTitle\" href=\"/pagead/clk?mo=r&amp;ad=-6NYlbfkN0AcQ1u5bMoHcP88jIXPbd4ocW_fjqXt85ajlNY2chHhCZyZkHgvGowPmWqG0t1VMZ_h1nUTwQDALVJyiO4hvHk_V7oe5zKne2OCAeQ-jpaK-E2PKXAZ3BLG_mhbiC3iQ3q0CUVh5eIPBACOPlpPa3TzyDlUmacIyf8xhbKGWm0htYo2xJzcxVj5QCSia6fzKAg0eiXjoWPm9lBkRjDiXPNUzSF_Bf5h-NdeWzaLaWdHlfDxhi1d1KSGoAMU7bmwOV4hLFlJkzwPAcqSl6Hptk_Hv6kcuN_sD8fzYg4lCVqqTi8dWopctuB_-PDC4R7FEJlAokDg8zQa_gIB0F1wwpdAgMgBp8hMVq8BvJKmk1qz6qnrX-_2__CcP_rGzeU5diEO8ZEYeKa_l-cdYDsgtUkTQa2drdcAkCHfrIINY7PQ1crBY5QPB2kXLTu5cGJl5s-K96rB6VqgQo0s3R5WbIgrJVcTxJrxr2cd6WH3-pgPxvZVSXGhDG_5kqekgCPzekiUSkBwvKfKcMNCFbpLyh--kfn0lod6-UJUqKd4eBKuhLZqMGtuKtGFRiqpXr125dUNHiPsN0_hmGLoNFWsMEfsOJvsVUR1kh22C3CQQuJHJUdVj00Qjw5sydToLm_bsAPnHL2gFnPdjvjP02wJHfAL9T1g5ATlWXzLe9fKzFVbNPkV5qzhQWzLkygwmU6AqKpT6Mo1Z59HfGUVe1vvsS04e6Gl8wji6yLgNh5vY7vMiA==&amp;p=2&amp;fvj=0&amp;vjs=3\" id=\"sja2\" onclick=\"setRefineByCookie([]); sjoc('sja2', 0); convCtr('SJ'); rclk(this,jobmap[2],true,0);\" onmousedown=\"sjomd('sja2'); clk('sja2'); rclk(this,jobmap[2],0);\" rel=\"noopener nofollow\" target=\"_blank\" title=\"Financial Data Analyst\">\n",
       " Financial <b>Data</b> <b>Analyst</b></a>\n",
       " </h2>\n",
       " <div class=\"sjcl\">\n",
       " <div>\n",
       " <span class=\"company\">\n",
       " <a class=\"turnstileLink\" data-tn-element=\"companyName\" href=\"/cmp/Independent-Care-Health-Plan\" onmousedown=\"this.href = appendParamsOnce(this.href, 'from=SERP&amp;campaignid=serp-linkcompanyname&amp;fromjk=f0ffa6ef103866c8&amp;jcid=bdf19679c2e1d03b')\" rel=\"noopener\" target=\"_blank\">\n",
       " Independent Care Health Plan</a></span>\n",
       " <span class=\"ratingsDisplay\">\n",
       " <a aria-label=\"Company rating 3.5 out of 5 stars\" class=\"ratingNumber\" data-tn-variant=\"cmplinktst2\" href=\"/cmp/Independent-Care-Health-Plan/reviews\" onmousedown=\"this.href = appendParamsOnce(this.href, '?campaignid=cmplinktst2&amp;from=SERP&amp;jt=Financial+Data+Analyst&amp;fromjk=f0ffa6ef103866c8&amp;jcid=bdf19679c2e1d03b');\" rel=\"noopener\" target=\"_blank\" title=\"Independent Care Health Plan reviews\"></a>\n",
       " <span class=\"ratingsContent\">\n",
       " 3.5<svg class=\"starIcon\" height=\"12px\" role=\"img\" width=\"12px\">\n",
       " <g>\n",
       " <path d=\"M 12.00,4.34 C 12.00,4.34 7.69,3.97 7.69,3.97 7.69,3.97 6.00,0.00 6.00,0.00 6.00,0.00 4.31,3.98 4.31,3.98 4.31,3.98 0.00,4.34 0.00,4.34 0.00,4.34 3.28,7.18 3.28,7.18 3.28,7.18 2.29,11.40 2.29,11.40 2.29,11.40 6.00,9.16 6.00,9.16 6.00,9.16 9.71,11.40 9.71,11.40 9.71,11.40 8.73,7.18 8.73,7.18 8.73,7.18 12.00,4.34 12.00,4.34 Z\" style=\"fill: #FFB103\"></path>\n",
       " </g>\n",
       " </svg>\n",
       " </span>\n",
       " </span></div></div></div>,\n",
       " <div class=\"jobsearch-SerpJobCard unifiedRow row result\" data-ci=\"7517114\" data-empn=\"1759446623740088\" data-jk=\"91f491c139fc686b\" id=\"pj_91f491c139fc686b\">\n",
       " <style>\n",
       " .jobcard_logo{margin:6px 0}.jobcard_logo img{width:auto;max-width:80px;max-height:30px}.jasxrefreshcombotst .jobcard_logo img{max-height:2rem;max-width:100%}\n",
       " </style>\n",
       " <h2 class=\"title\">\n",
       " <a class=\"jobtitle turnstileLink\" data-tn-element=\"jobTitle\" href=\"/pagead/clk?mo=r&amp;ad=-6NYlbfkN0Ad3giXQyOqSjtuCazZCjThtx5L7e01X6oDYMq-RePRDTabW1r8O_EBMBefrwzWbGaN6T7ZGHY46gfnHrF5S6kWg14-WSRqU5eXsN1bAC3aYh1-TTmTGngBxPjdT8hrlGrI1hsXYrcJvc4-RD36-Bv2EXiIh93IZkXJ3WmwOgYm59BpUI00hapRNX0Hu9TWIcSt55rPGeSvgPvw_Ye8J7r2ElxIUSlt0gf-rBNZDzvfln55FSjr5tN3FVgI8OIT99VjvxVuzPTQAM0uZVnEFiWl0ioQTBl9hYJddpnan6OqiFedVYEZzTLutP392310ZRYHUQRtAJv_6ehEZoGAt27pFDcQxCQMNMxAPp7v5pO190PsMqQZpYMBqpEjg-SOpUQ8_qPF9WHNNmicx1ynnw5wunGEhz3uybTvwCYc7mEIV5v_ed-vwLsJQT9X9iyBf1l3lVsEfalxwkyy1kO2NNW7moEYWUaiyqoFXsy7AqMf64H-FWxqRNqQ3GplaG3KdJm6utFmZIRM8DDDBGJzEdGq&amp;p=3&amp;fvj=0&amp;vjs=3\" id=\"sja3\" onclick=\"setRefineByCookie([]); sjoc('sja3', 0); convCtr('SJ'); rclk(this,jobmap[3],true,0);\" onmousedown=\"sjomd('sja3'); clk('sja3'); rclk(this,jobmap[3],0);\" rel=\"noopener nofollow\" target=\"_blank\" title=\"Facilities Analyst Internship - Paid (South of Milwaukee)\">\n",
       " Facilities <b>Analyst</b> Internship - Paid (South of Milwaukee)</a>\n",
       " <span class=\"new\">new</span></h2>\n",
       " <div class=\"sjcl\">\n",
       " <div>\n",
       " <span class=\"company\">\n",
       " <a class=\"turnstileLink\" data-tn-element=\"companyName\" href=\"/cmp/Uline\" onmousedown=\"this.href = appendParamsOnce(this.href, 'from=SERP&amp;campaignid=serp-linkcompanyname&amp;fromjk=91f491c139fc686b&amp;jcid=2f680121eef7890a')\" rel=\"noopener\" target=\"_blank\">\n",
       " Uline</a></span>\n",
       " <span class=\"ratingsDisplay\">\n",
       " <a aria-label=\"Company rating 3.2 out of 5 stars\" class=\"ratingNumber\" data-tn-variant=\"cmplinktst2\" href=\"/cmp/Uline/reviews\" onmousedown=\"this.href = appendParamsOnce(this.href, '?campaignid=cmplinktst2&amp;from=SERP&amp;jt=Facilities+Analyst+Internship+-+Paid+%28South+of+Milwaukee%29&amp;fromjk=91f491c139fc686b&amp;jcid=2f680121eef7890a');\" rel=\"noopener\" target=\"_blank\" title=\"Uline reviews\"></a>\n",
       " <span class=\"ratingsContent\">\n",
       " 3.2<svg class=\"starIcon\" height=\"12px\" role=\"img\" width=\"12px\">\n",
       " <g>\n",
       " <path d=\"M 12.00,4.34 C 12.00,4.34 7.69,3.97 7.69,3.97 7.69,3.97 6.00,0.00 6.00,0.00 6.00,0.00 4.31,3.98 4.31,3.98 4.31,3.98 0.00,4.34 0.00,4.34 0.00,4.34 3.28,7.18 3.28,7.18 3.28,7.18 2.29,11.40 2.29,11.40 2.29,11.40 6.00,9.16 6.00,9.16 6.00,9.16 9.71,11.40 9.71,11.40 9.71,11.40 8.73,7.18 8.73,7.18 8.73,7.18 12.00,4.34 12.00,4.34 Z\" style=\"fill: #FFB103\"></path>\n",
       " </g>\n",
       " </svg>\n",
       " </span>\n",
       " </span></div></div></div>,\n",
       " <div class=\"jobsearch-SerpJobCard unifiedRow row result\" data-jk=\"493fa48f9d938294\" data-tn-component=\"organicJob\" id=\"p_493fa48f9d938294\">\n",
       " <h2 class=\"title\">\n",
       " <a class=\"jobtitle turnstileLink\" data-tn-element=\"jobTitle\" href=\"/company/Sprecher-Brewing-Company/jobs/Technical-Business-Analyst-493fa48f9d938294?fccid=48ee0f5c47c3332c&amp;vjs=3\" id=\"jl_493fa48f9d938294\" onclick=\"setRefineByCookie([]); return rclk(this,jobmap[4],true,1);\" onmousedown=\"return rclk(this,jobmap[4],1);\" rel=\"noopener nofollow\" target=\"_blank\" title=\"Technical Business Analyst, Jr\">\n",
       " Technical Business <b>Analyst</b>, Jr</a>\n",
       " <span class=\"new\">new</span></h2>\n",
       " <div class=\"sjcl\">\n",
       " <div>\n",
       " <span class=\"company\">\n",
       " <a class=\"turnstileLink\" data-tn-element=\"companyName\" href=\"/cmp/Sprecher-Brewing-Company\" onmousedown=\"this.href = appendParamsOnce(this.href, 'from=SERP&amp;campaignid=serp-linkcompanyname&amp;fromjk=493fa48f9d938294&amp;jcid=eaa5dbd4b7ec3cc4')\" rel=\"noopener\" target=\"_blank\">\n",
       " Sprecher Brewing Company</a></span>\n",
       " <span class=\"ratingsDisplay\">\n",
       " <a aria-label=\"Company rating 4.0 out of 5 stars\" class=\"ratingNumber\" data-tn-variant=\"cmplinktst2\" href=\"/cmp/Sprecher-Brewing-Company/reviews\" onmousedown=\"this.href = appendParamsOnce(this.href, '?campaignid=cmplinktst2&amp;from=SERP&amp;jt=Technical+Business+Analyst%2C+Jr&amp;fromjk=493fa48f9d938294&amp;jcid=eaa5dbd4b7ec3cc4');\" rel=\"noopener\" target=\"_blank\" title=\"Sprecher Brewing Company reviews\"></a>\n",
       " <span class=\"ratingsContent\">\n",
       " 4.0<svg class=\"starIcon\" height=\"12px\" role=\"img\" width=\"12px\">\n",
       " <g>\n",
       " <path d=\"M 12.00,4.34 C 12.00,4.34 7.69,3.97 7.69,3.97 7.69,3.97 6.00,0.00 6.00,0.00 6.00,0.00 4.31,3.98 4.31,3.98 4.31,3.98 0.00,4.34 0.00,4.34 0.00,4.34 3.28,7.18 3.28,7.18 3.28,7.18 2.29,11.40 2.29,11.40 2.29,11.40 6.00,9.16 6.00,9.16 6.00,9.16 9.71,11.40 9.71,11.40 9.71,11.40 8.73,7.18 8.73,7.18 8.73,7.18 12.00,4.34 12.00,4.34 Z\" style=\"fill: #FFB103\"></path>\n",
       " </g>\n",
       " </svg>\n",
       " </span>\n",
       " </span></div></div></div>,\n",
       " <div class=\"jobsearch-SerpJobCard unifiedRow row result\" data-ci=\"357929471\" data-empn=\"5501812635962589\" data-jk=\"c419fecde24f854e\" data-tu=\"https://analytics.prng.co/i?e=se&amp;aid=indeed-firstclick&amp;p=web&amp;tv=no-js-0.1.0&amp;tna=indeed-firstclick-tracker&amp;se_ca=click&amp;se_ac=first-click&amp;se_la=zeuPg9b&amp;se_va=0.20&amp;indeed=sp\" id=\"pj_c419fecde24f854e\">\n",
       " <style>\n",
       " .jobcard_logo{margin:6px 0}.jobcard_logo img{width:auto;max-width:80px;max-height:30px}.jasxrefreshcombotst .jobcard_logo img{max-height:2rem;max-width:100%}\n",
       " </style>\n",
       " <h2 class=\"title\">\n",
       " <a class=\"jobtitle turnstileLink\" data-tn-element=\"jobTitle\" href=\"/pagead/clk?mo=r&amp;ad=-6NYlbfkN0Cildmy3xp5DDe1hey2wetZ8Im9iLhFVTD2n6CnBp0IwEQtKPmViZ4NaiQopSN-sUrTBf-7qMB5DVQrjQ-85tuS8uqkBfZofzA0TeQecL2a9_dc3hvRmnz02a7ZQ-keDYf40Gobb4b1HbSfONqGtC-QLXgkJ0Mm83rEJgfPoN8VRfr0AKbuO3XltYPlmWljO6sZu90dzvnQoKrvbnlg0BY58tGKdlORpy2Ef2oX5fv2-q-4tAysHlyt4LNIAxJV6xuRPsUkoyZBFwnbqGfWhNQ_XL5zDa1fKz7wLlCPyGJ8roB-bC36UYaqhWbgPs7Ef-2OkgRXtjYJCGzTik-OO7YINcoZvjTxyTZfBTc335L37yg_2CIbnmkgbUSHPF6vUwmKDJN3YgTsiQ==&amp;p=5&amp;fvj=0&amp;vjs=3\" id=\"sja5\" onclick=\"setRefineByCookie([]); sjoc('sja5', 0); convCtr('SJ'); rclk(this,jobmap[5],true,0);\" onmousedown=\"sjomd('sja5'); clk('sja5'); rclk(this,jobmap[5],0);\" rel=\"noopener nofollow\" target=\"_blank\" title=\"Settlement Analyst I\">\n",
       " Settlement <b>Analyst</b> I</a>\n",
       " <span class=\"new\">new</span></h2>\n",
       " <div class=\"sjcl\">\n",
       " <div>\n",
       " <span class=\"company\">\n",
       " <a class=\"turnstileLink\" data-tn-element=\"companyName\" href=\"/cmp/Fis-Global\" onmousedown=\"this.href = appendParamsOnce(this.href, 'from=SERP&amp;campaignid=serp-linkcompanyname&amp;fromjk=c419fecde24f854e&amp;jcid=728c395148e5a2db')\" rel=\"noopener\" target=\"_blank\">\n",
       " FIS Global</a></span>\n",
       " <span class=\"ratingsDisplay\">\n",
       " <a aria-label=\"Company rating 3.5 out of 5 stars\" class=\"ratingNumber\" data-tn-variant=\"cmplinktst2\" href=\"/cmp/Fis-Global/reviews\" onmousedown=\"this.href = appendParamsOnce(this.href, '?campaignid=cmplinktst2&amp;from=SERP&amp;jt=Settlement+Analyst+I&amp;fromjk=c419fecde24f854e&amp;jcid=728c395148e5a2db');\" rel=\"noopener\" target=\"_blank\" title=\"Fis Global reviews\"></a>\n",
       " <span class=\"ratingsContent\">\n",
       " 3.5<svg class=\"starIcon\" height=\"12px\" role=\"img\" width=\"12px\">\n",
       " <g>\n",
       " <path d=\"M 12.00,4.34 C 12.00,4.34 7.69,3.97 7.69,3.97 7.69,3.97 6.00,0.00 6.00,0.00 6.00,0.00 4.31,3.98 4.31,3.98 4.31,3.98 0.00,4.34 0.00,4.34 0.00,4.34 3.28,7.18 3.28,7.18 3.28,7.18 2.29,11.40 2.29,11.40 2.29,11.40 6.00,9.16 6.00,9.16 6.00,9.16 9.71,11.40 9.71,11.40 9.71,11.40 8.73,7.18 8.73,7.18 8.73,7.18 12.00,4.34 12.00,4.34 Z\" style=\"fill: #FFB103\"></path>\n",
       " </g>\n",
       " </svg>\n",
       " </span>\n",
       " </span></div></div></div>,\n",
       " <div class=\"jobsearch-SerpJobCard unifiedRow row result\" data-jk=\"d420626e2a2d0842\" data-tn-component=\"organicJob\" id=\"p_d420626e2a2d0842\">\n",
       " <h2 class=\"title\">\n",
       " <a class=\"jobtitle turnstileLink\" data-tn-element=\"jobTitle\" href=\"/rc/clk?jk=d420626e2a2d0842&amp;fccid=d554da215b63feb0&amp;vjs=3\" id=\"jl_d420626e2a2d0842\" onclick=\"setRefineByCookie([]); return rclk(this,jobmap[6],true,0);\" onmousedown=\"return rclk(this,jobmap[6],0);\" rel=\"noopener nofollow\" target=\"_blank\" title=\"Data Analyst\">\n",
       " <b>Data</b> <b>Analyst</b></a>\n",
       " </h2>\n",
       " <div class=\"sjcl\">\n",
       " <div>\n",
       " <span class=\"company\">\n",
       " <a class=\"turnstileLink\" data-tn-element=\"companyName\" href=\"/cmp/Boys-&amp;-Girls-Clubs-of-America\" onmousedown=\"this.href = appendParamsOnce(this.href, 'from=SERP&amp;campaignid=serp-linkcompanyname&amp;fromjk=d420626e2a2d0842&amp;jcid=46d77db38bef5f29')\" rel=\"noopener\" target=\"_blank\">\n",
       " Boys &amp; Girls Club of Greater Milwaukee</a></span>\n",
       " <span class=\"ratingsDisplay\">\n",
       " <a aria-label=\"Company rating 4.2 out of 5 stars\" class=\"ratingNumber\" data-tn-variant=\"cmplinktst2\" href=\"/cmp/Boys-&amp;-Girls-Clubs-of-America/reviews\" onmousedown=\"this.href = appendParamsOnce(this.href, '?campaignid=cmplinktst2&amp;from=SERP&amp;jt=Data+Analyst&amp;fromjk=d420626e2a2d0842&amp;jcid=46d77db38bef5f29');\" rel=\"noopener\" target=\"_blank\"></a>\n",
       " <span class=\"ratingsContent\">\n",
       " 4.2<svg class=\"starIcon\" height=\"12px\" role=\"img\" width=\"12px\">\n",
       " <g>\n",
       " <path d=\"M 12.00,4.34 C 12.00,4.34 7.69,3.97 7.69,3.97 7.69,3.97 6.00,0.00 6.00,0.00 6.00,0.00 4.31,3.98 4.31,3.98 4.31,3.98 0.00,4.34 0.00,4.34 0.00,4.34 3.28,7.18 3.28,7.18 3.28,7.18 2.29,11.40 2.29,11.40 2.29,11.40 6.00,9.16 6.00,9.16 6.00,9.16 9.71,11.40 9.71,11.40 9.71,11.40 8.73,7.18 8.73,7.18 8.73,7.18 12.00,4.34 12.00,4.34 Z\" style=\"fill: #FFB103\"></path>\n",
       " </g>\n",
       " </svg>\n",
       " </span>\n",
       " </span></div></div></div>,\n",
       " <div class=\"jobsearch-SerpJobCard unifiedRow row result\" data-ci=\"151366320\" data-empn=\"6777241457254436\" data-jk=\"a3c2dc4e645b32c7\" id=\"pj_a3c2dc4e645b32c7\">\n",
       " <style>\n",
       " .jobcard_logo{margin:6px 0}.jobcard_logo img{width:auto;max-width:80px;max-height:30px}.jasxrefreshcombotst .jobcard_logo img{max-height:2rem;max-width:100%}\n",
       " </style>\n",
       " <h2 class=\"title\">\n",
       " <a class=\"jobtitle turnstileLink\" data-tn-element=\"jobTitle\" href=\"/pagead/clk?mo=r&amp;ad=-6NYlbfkN0ABn5GwwiAtE4UwcQ4ofq8PkiZJadrMj-BO0r_6duZ5jVeWr_MtCtDYMliYxoAkRwkXLMnTsI3riRimUpBFcIAzSGQPnnUSEAP0eLKDC6mgHWpHPUan1MEUsiL_RQk5kZppMm1ZfBqiF03WKEwOTlE2xsPy13cR4uPwKveIr5tODx5zgsNG2UkVBYlTB1SROq1_aTUj6Rd2ftngFMx8FHlwvcrRUg074ye-k8htXszCVx01iNAiS9edbwozgisAHkShFQmtuKlxN3j2cpKLAvCeBaVJWrZ5808qBzlwhK1ThX13lYlayllH9m8WSnF5471m9f59bF6QrVfU8N6PlUO0LbsaapIu6-AiZ_1lUYQXZjX9k2RQkUntT_PdNhu-LR0ieJ35mFCdZgOv-etCaazRUS11sjGOSJop8Xvrm5xMbj_zYpCGXE6JWhMpPyTa0lZZC1HwO4hZIVYDvZOoFhbD6Vwn8OrMGI2CKSC-uHtutg==&amp;p=7&amp;fvj=0&amp;vjs=3\" id=\"sja7\" onclick=\"setRefineByCookie([]); sjoc('sja7', 0); convCtr('SJ'); rclk(this,jobmap[7],true,0);\" onmousedown=\"sjomd('sja7'); clk('sja7'); rclk(this,jobmap[7],0);\" rel=\"noopener nofollow\" target=\"_blank\" title=\"Medical Risk Analyst (RN)\">\n",
       " Medical Risk <b>Analyst</b> (RN)</a>\n",
       " </h2>\n",
       " <div class=\"sjcl\">\n",
       " <div>\n",
       " <span class=\"company\">\n",
       " <a class=\"turnstileLink\" data-tn-element=\"companyName\" href=\"/cmp/National-General-Insurance\" onmousedown=\"this.href = appendParamsOnce(this.href, 'from=SERP&amp;campaignid=serp-linkcompanyname&amp;fromjk=a3c2dc4e645b32c7&amp;jcid=743fbe6811ee21a3')\" rel=\"noopener\" target=\"_blank\">\n",
       " National General Insurance</a></span>\n",
       " <span class=\"ratingsDisplay\">\n",
       " <a aria-label=\"Company rating 3.0 out of 5 stars\" class=\"ratingNumber\" data-tn-variant=\"cmplinktst2\" href=\"/cmp/National-General-Insurance/reviews\" onmousedown=\"this.href = appendParamsOnce(this.href, '?campaignid=cmplinktst2&amp;from=SERP&amp;jt=Medical+Risk+Analyst+%28RN%29&amp;fromjk=a3c2dc4e645b32c7&amp;jcid=743fbe6811ee21a3');\" rel=\"noopener\" target=\"_blank\" title=\"National General Insurance reviews\"></a>\n",
       " <span class=\"ratingsContent\">\n",
       " 3.0<svg class=\"starIcon\" height=\"12px\" role=\"img\" width=\"12px\">\n",
       " <g>\n",
       " <path d=\"M 12.00,4.34 C 12.00,4.34 7.69,3.97 7.69,3.97 7.69,3.97 6.00,0.00 6.00,0.00 6.00,0.00 4.31,3.98 4.31,3.98 4.31,3.98 0.00,4.34 0.00,4.34 0.00,4.34 3.28,7.18 3.28,7.18 3.28,7.18 2.29,11.40 2.29,11.40 2.29,11.40 6.00,9.16 6.00,9.16 6.00,9.16 9.71,11.40 9.71,11.40 9.71,11.40 8.73,7.18 8.73,7.18 8.73,7.18 12.00,4.34 12.00,4.34 Z\" style=\"fill: #FFB103\"></path>\n",
       " </g>\n",
       " </svg>\n",
       " </span>\n",
       " </span></div></div></div>,\n",
       " <div class=\"jobsearch-SerpJobCard unifiedRow row result\" data-jk=\"4769479239ccdc3a\" data-tn-component=\"organicJob\" id=\"p_4769479239ccdc3a\">\n",
       " <h2 class=\"title\">\n",
       " <a class=\"jobtitle turnstileLink\" data-tn-element=\"jobTitle\" href=\"/rc/clk?jk=4769479239ccdc3a&amp;fccid=a1555707fbeb083d&amp;vjs=3\" id=\"jl_4769479239ccdc3a\" onclick=\"setRefineByCookie([]); return rclk(this,jobmap[8],true,1);\" onmousedown=\"return rclk(this,jobmap[8],1);\" rel=\"noopener nofollow\" target=\"_blank\" title=\"Crime Analyst\">\n",
       " Crime <b>Analyst</b></a>\n",
       " </h2>\n",
       " <div class=\"sjcl\">\n",
       " <div>\n",
       " <span class=\"company\">\n",
       " <a class=\"turnstileLink\" data-tn-element=\"companyName\" href=\"/cmp/City-of-Milwaukee\" onmousedown=\"this.href = appendParamsOnce(this.href, 'from=SERP&amp;campaignid=serp-linkcompanyname&amp;fromjk=4769479239ccdc3a&amp;jcid=a1555707fbeb083d')\" rel=\"noopener\" target=\"_blank\">\n",
       " City of Milwaukee</a></span>\n",
       " <span class=\"ratingsDisplay\">\n",
       " <a aria-label=\"Company rating 3.9 out of 5 stars\" class=\"ratingNumber\" data-tn-variant=\"cmplinktst2\" href=\"/cmp/City-of-Milwaukee/reviews\" onmousedown=\"this.href = appendParamsOnce(this.href, '?campaignid=cmplinktst2&amp;from=SERP&amp;jt=Crime+Analyst&amp;fromjk=4769479239ccdc3a&amp;jcid=a1555707fbeb083d');\" rel=\"noopener\" target=\"_blank\" title=\"City of Milwaukee reviews\"></a>\n",
       " <span class=\"ratingsContent\">\n",
       " 3.9<svg class=\"starIcon\" height=\"12px\" role=\"img\" width=\"12px\">\n",
       " <g>\n",
       " <path d=\"M 12.00,4.34 C 12.00,4.34 7.69,3.97 7.69,3.97 7.69,3.97 6.00,0.00 6.00,0.00 6.00,0.00 4.31,3.98 4.31,3.98 4.31,3.98 0.00,4.34 0.00,4.34 0.00,4.34 3.28,7.18 3.28,7.18 3.28,7.18 2.29,11.40 2.29,11.40 2.29,11.40 6.00,9.16 6.00,9.16 6.00,9.16 9.71,11.40 9.71,11.40 9.71,11.40 8.73,7.18 8.73,7.18 8.73,7.18 12.00,4.34 12.00,4.34 Z\" style=\"fill: #FFB103\"></path>\n",
       " </g>\n",
       " </svg>\n",
       " </span>\n",
       " </span></div></div></div>,\n",
       " <div class=\"jobsearch-SerpJobCard unifiedRow row result\" data-ci=\"151366320\" data-empn=\"6777241457254436\" data-jk=\"0b14630ae71cbbeb\" id=\"pj_0b14630ae71cbbeb\">\n",
       " <style>\n",
       " .jobcard_logo{margin:6px 0}.jobcard_logo img{width:auto;max-width:80px;max-height:30px}.jasxrefreshcombotst .jobcard_logo img{max-height:2rem;max-width:100%}\n",
       " </style>\n",
       " <h2 class=\"title\">\n",
       " <a class=\"jobtitle turnstileLink\" data-tn-element=\"jobTitle\" href=\"/pagead/clk?mo=r&amp;ad=-6NYlbfkN0ABn5GwwiAtE4UwcQ4ofq8PkiZJadrMj-BO0r_6duZ5jVeWr_MtCtDYMliYxoAkRwmgKll-pWC3ZS6kuznz2ibXqEmXpC6hmgT3o4lYVI64fBpt482rH3bx-r10v4fQyIExwNVk_5WhW6e-E35HjQqK15wD7K_nE-DDFvIgZoO2X8yeX7TXRla6oXZWnh1_2-K1zZIPm-WUt3lqyvW8AbrCh5A9ePwZmYb8j9Ub8BYyoY5GX0KXU1MRHVGosoH_vwWv83agz-mEVYJOjvuU8OkKErwk1BGHNQB_IUZLQKkyu3DhkkFS1ak0GBNHwqSoG4zotPCWsmkmuVDv-rCZlrPK0gRzahbgSfVfPUekIas9mIDF8qYSBxSTpVx_tz4Zc1aPTSU9iip1c17uDf-odFEkJ3PT4qDLrNP39w8eeND7_qJGvPtccPDGpfhgsbRsT6UEx0QLRQkSOWHIGZmwI5k5gZvxk__ayNYAo5HX9JUbC_HSK8vlko1dS4OcgPVSjsPnMRzqGAtVlQ==&amp;p=9&amp;fvj=0&amp;vjs=3\" id=\"sja9\" onclick=\"setRefineByCookie([]); sjoc('sja9', 0); convCtr('SJ'); rclk(this,jobmap[9],true,0);\" onmousedown=\"sjomd('sja9'); clk('sja9'); rclk(this,jobmap[9],0);\" rel=\"noopener nofollow\" target=\"_blank\" title=\"Business Analyst 1 - Group Product Line\">\n",
       " Business <b>Analyst</b> 1 - Group Product Line</a>\n",
       " <span class=\"new\">new</span></h2>\n",
       " <div class=\"sjcl\">\n",
       " <div>\n",
       " <span class=\"company\">\n",
       " <a class=\"turnstileLink\" data-tn-element=\"companyName\" href=\"/cmp/National-General-Insurance\" onmousedown=\"this.href = appendParamsOnce(this.href, 'from=SERP&amp;campaignid=serp-linkcompanyname&amp;fromjk=0b14630ae71cbbeb&amp;jcid=743fbe6811ee21a3')\" rel=\"noopener\" target=\"_blank\">\n",
       " National General Insurance</a></span>\n",
       " <span class=\"ratingsDisplay\">\n",
       " <a aria-label=\"Company rating 3.0 out of 5 stars\" class=\"ratingNumber\" data-tn-variant=\"cmplinktst2\" href=\"/cmp/National-General-Insurance/reviews\" onmousedown=\"this.href = appendParamsOnce(this.href, '?campaignid=cmplinktst2&amp;from=SERP&amp;jt=Business+Analyst+1+-+Group+Product+Line&amp;fromjk=0b14630ae71cbbeb&amp;jcid=743fbe6811ee21a3');\" rel=\"noopener\" target=\"_blank\" title=\"National General Insurance reviews\"></a>\n",
       " <span class=\"ratingsContent\">\n",
       " 3.0<svg class=\"starIcon\" height=\"12px\" role=\"img\" width=\"12px\">\n",
       " <g>\n",
       " <path d=\"M 12.00,4.34 C 12.00,4.34 7.69,3.97 7.69,3.97 7.69,3.97 6.00,0.00 6.00,0.00 6.00,0.00 4.31,3.98 4.31,3.98 4.31,3.98 0.00,4.34 0.00,4.34 0.00,4.34 3.28,7.18 3.28,7.18 3.28,7.18 2.29,11.40 2.29,11.40 2.29,11.40 6.00,9.16 6.00,9.16 6.00,9.16 9.71,11.40 9.71,11.40 9.71,11.40 8.73,7.18 8.73,7.18 8.73,7.18 12.00,4.34 12.00,4.34 Z\" style=\"fill: #FFB103\"></path>\n",
       " </g>\n",
       " </svg>\n",
       " </span>\n",
       " </span></div></div></div>,\n",
       " <div class=\"jobsearch-SerpJobCard unifiedRow row result\" data-jk=\"304755808dd5934d\" data-tn-component=\"organicJob\" id=\"p_304755808dd5934d\">\n",
       " <h2 class=\"title\">\n",
       " <a class=\"jobtitle turnstileLink\" data-tn-element=\"jobTitle\" href=\"/rc/clk?jk=304755808dd5934d&amp;fccid=0c87ab2d071aab27&amp;vjs=3\" id=\"jl_304755808dd5934d\" onclick=\"setRefineByCookie([]); return rclk(this,jobmap[10],true,0);\" onmousedown=\"return rclk(this,jobmap[10],0);\" rel=\"noopener nofollow\" target=\"_blank\" title=\"Quantitative Data Analyst\">\n",
       " Quantitative <b>Data</b> <b>Analyst</b></a>\n",
       " </h2>\n",
       " <div class=\"sjcl\">\n",
       " <div>\n",
       " <span class=\"company\">\n",
       " Racon Capital Partners</span>\n",
       " </div>\n",
       " <div class=\"recJobLoc\" data-rc-loc=\"Milwaukee, WI\" id=\"recJobLoc_304755808dd5934d\" style=\"display: none\"></div>\n",
       " <span class=\"location accessible-contrast-color-location\">Milwaukee, WI</span>\n",
       " </div>\n",
       " <div class=\"summary\">\n",
       " <ul style=\"list-style-type:circle;margin-top: 0px;margin-bottom: 0px;padding-left:20px;\">\n",
       " <li>Build industry-leading <b>data</b> models, APIs and standards for storing and accessing <b>data</b> to support ongoing quantitative research and live trading.</li>\n",
       " </ul></div>\n",
       " <div class=\"jobsearch-SerpJobCard-footer\">\n",
       " <div class=\"jobsearch-SerpJobCard-footerActions\">\n",
       " <div class=\"result-link-bar-container\">\n",
       " <div class=\"result-link-bar\"><span class=\"date\">30+ days ago</span><span class=\"tt_set\" id=\"tt_set_10\"><div class=\"job-reaction\"><button aria-expanded=\"false\" aria-haspopup=\"true\" aria-label=\"save or dislike\" class=\"job-reaction-kebab\" data-ol-has-click-handler=\"\" onclick=\"toggleKebabMenu('304755808dd5934d', false, event); return false;\" tabindex=\"0\"></button><span class=\"job-reaction-kebab-menu\"><button class=\"job-reaction-kebab-item job-reaction-save\" data-ol-has-click-handler=\"\" onclick=\"changeJobState('304755808dd5934d', 'save', 'linkbar', false, '');return false;\"><svg focusable=\"false\" height=\"16\" viewbox=\"0 0 24 24\" width=\"16\"><g><path d=\"M16.5,3A6,6,0,0,0,12,5.09,6,6,0,0,0,7.5,3,5.45,5.45,0,0,0,2,8.5C2,12.28,5.4,15.36,10.55,20L12,21.35,13.45,20C18.6,15.36,22,12.28,22,8.5A5.45,5.45,0,0,0,16.5,3ZM12.1,18.55l-0.1.1-0.1-.1C7.14,14.24,4,11.39,4,8.5A3.42,3.42,0,0,1,7.5,5a3.91,3.91,0,0,1,3.57,2.36h1.87A3.88,3.88,0,0,1,16.5,5,3.42,3.42,0,0,1,20,8.5C20,11.39,16.86,14.24,12.1,18.55Z\" fill=\"#2d2d2d\"></path></g></svg><span class=\"job-reaction-kebab-item-text\">Save job</span></button><button class=\"job-reaction-kebab-item job-reaction-dislike\" data-ol-has-click-handler=\"\" onclick=\"dislikeJob(false, false, '304755808dd5934d', 'unsave', 'linkbar', false, '');\"><span class=\"job-reaction-dislike-icon\"></span><span class=\"job-reaction-kebab-item-text\">Not interested</span></button><button class=\"job-reaction-kebab-item job-reaction-report\" onclick=\"reportJob('304755808dd5934d');\"><span class=\"job-reaction-report-icon\"></span><span class=\"job-reaction-kebab-item-text\">Report Job</span></button></span></div><span class=\"result-link-bar-separator\">·</span><a class=\"sl resultLink save-job-link\" href=\"#\" id=\"sj_304755808dd5934d\" onclick=\"changeJobState('304755808dd5934d', 'save', 'linkbar', false, ''); return false;\" title=\"Save this job to my.indeed\">Save job</a><span class=\"result-link-bar-separator\">·</span><button aria-expanded=\"false\" class=\"sl resultLink more-link\" id=\"tog_10\" onclick=\"toggleMoreLinks('304755808dd5934d', '10'); return false;\">More...</button></span><div class=\"edit_note_content\" id=\"editsaved2_304755808dd5934d\" style=\"display:none;\"></div><script>if (!window['result_304755808dd5934d']) {window['result_304755808dd5934d'] = {};}window['result_304755808dd5934d']['showSource'] = false; window['result_304755808dd5934d']['source'] = \"Racon Capital Partners\"; window['result_304755808dd5934d']['loggedIn'] = false; window['result_304755808dd5934d']['showMyJobsLinks'] = false;window['result_304755808dd5934d']['undoAction'] = \"unsave\";window['result_304755808dd5934d']['relativeJobAge'] = \"30+ days ago\";window['result_304755808dd5934d']['jobKey'] = \"304755808dd5934d\"; window['result_304755808dd5934d']['myIndeedAvailable'] = true; window['result_304755808dd5934d']['showMoreActionsLink'] = window['result_304755808dd5934d']['showMoreActionsLink'] || true; window['result_304755808dd5934d']['resultNumber'] = 10; window['result_304755808dd5934d']['jobStateChangedToSaved'] = false; window['result_304755808dd5934d']['searchState'] = \"q=data analyst&amp;l=Milwaukee\"; window['result_304755808dd5934d']['basicPermaLink'] = \"https://www.indeed.com\"; window['result_304755808dd5934d']['saveJobFailed'] = false; window['result_304755808dd5934d']['removeJobFailed'] = false; window['result_304755808dd5934d']['requestPending'] = false; window['result_304755808dd5934d']['notesEnabled'] = true; window['result_304755808dd5934d']['currentPage'] = \"serp\"; window['result_304755808dd5934d']['sponsored'] = false;window['result_304755808dd5934d']['reportJobButtonEnabled'] = false; window['result_304755808dd5934d']['showMyJobsHired'] = false; window['result_304755808dd5934d']['showSaveForSponsored'] = false; window['result_304755808dd5934d']['showJobAge'] = true; window['result_304755808dd5934d']['showHolisticCard'] = true; window['result_304755808dd5934d']['showDislike'] = true; window['result_304755808dd5934d']['showKebab'] = true; window['result_304755808dd5934d']['showReport'] = true;</script></div></div>\n",
       " </div>\n",
       " </div>\n",
       " <div class=\"tab-container\">\n",
       " <div class=\"more-links-container result-tab\" id=\"tt_display_4\" style=\"display:none;\"><div class=\"more_actions\" id=\"more_4\"><ul><li><span class=\"mat\">View all <a href=\"/q-Racon-Capital-Partners-l-Milwaukee,-WI-jobs.html\">Racon Capital Partners jobs in Milwaukee, WI</a> - <a href=\"/l-Milwaukee,-WI-jobs.html\">Milwaukee jobs</a></span></li><li><span class=\"mat\">Explore career as Quantitative Analyst: <a href=\"/career/quantitative-analyst\" onmousedown=\"this.href = appendParamsOnce(this.href, 'from=jasx');\">overview</a>, <a href=\"/career/quantitative-analyst/career-advice\" onmousedown=\"this.href = appendParamsOnce(this.href, 'from=jasx');\">career advice</a>, <a href=\"/career/quantitative-analyst/faq\" onmousedown=\"this.href = appendParamsOnce(this.href, 'from=jasx');\">FAQs</a></span></li></ul></div><a class=\"close-link closeLink\" href=\"#\" onclick=\"toggleMoreLinks('304755808dd5934d'); return false;\" title=\"Close\"></a></div><div class=\"dya-container result-tab\"></div>\n",
       " <div class=\"tellafriend-container result-tab email_job_content\"></div>\n",
       " <div class=\"sign-in-container result-tab\"></div>\n",
       " <div class=\"notes-container result-tab\"></div>\n",
       " </div>\n",
       " </div>,\n",
       " <div class=\"jobsearch-SerpJobCard unifiedRow row result\" data-jk=\"66ac93adf83d6cd4\" data-tn-component=\"organicJob\" id=\"p_66ac93adf83d6cd4\">\n",
       " <h2 class=\"title\">\n",
       " <a class=\"jobtitle turnstileLink\" data-tn-element=\"jobTitle\" href=\"/rc/clk?jk=66ac93adf83d6cd4&amp;fccid=a4b7e90c6a891db3&amp;vjs=3\" id=\"jl_66ac93adf83d6cd4\" onclick=\"setRefineByCookie([]); return rclk(this,jobmap[11],true,0);\" onmousedown=\"return rclk(this,jobmap[11],0);\" rel=\"noopener nofollow\" target=\"_blank\" title=\"Talent Data Business Analyst\">\n",
       " Talent <b>Data</b> Business <b>Analyst</b></a>\n",
       " </h2>\n",
       " <div class=\"sjcl\">\n",
       " <div>\n",
       " <span class=\"company\">\n",
       " <a class=\"turnstileLink\" data-tn-element=\"companyName\" href=\"/cmp/Rockwell-Automation\" onmousedown=\"this.href = appendParamsOnce(this.href, 'from=SERP&amp;campaignid=serp-linkcompanyname&amp;fromjk=66ac93adf83d6cd4&amp;jcid=a4b7e90c6a891db3')\" rel=\"noopener\" target=\"_blank\">\n",
       " Rockwell Automation</a></span>\n",
       " <span class=\"ratingsDisplay\">\n",
       " <a aria-label=\"Company rating 3.9 out of 5 stars\" class=\"ratingNumber\" data-tn-variant=\"cmplinktst2\" href=\"/cmp/Rockwell-Automation/reviews\" onmousedown=\"this.href = appendParamsOnce(this.href, '?campaignid=cmplinktst2&amp;from=SERP&amp;jt=Talent+Data+Business+Analyst&amp;fromjk=66ac93adf83d6cd4&amp;jcid=a4b7e90c6a891db3');\" rel=\"noopener\" target=\"_blank\" title=\"Rockwell Automation reviews\"></a>\n",
       " <span class=\"ratingsContent\">\n",
       " 3.9<svg class=\"starIcon\" height=\"12px\" role=\"img\" width=\"12px\">\n",
       " <g>\n",
       " <path d=\"M 12.00,4.34 C 12.00,4.34 7.69,3.97 7.69,3.97 7.69,3.97 6.00,0.00 6.00,0.00 6.00,0.00 4.31,3.98 4.31,3.98 4.31,3.98 0.00,4.34 0.00,4.34 0.00,4.34 3.28,7.18 3.28,7.18 3.28,7.18 2.29,11.40 2.29,11.40 2.29,11.40 6.00,9.16 6.00,9.16 6.00,9.16 9.71,11.40 9.71,11.40 9.71,11.40 8.73,7.18 8.73,7.18 8.73,7.18 12.00,4.34 12.00,4.34 Z\" style=\"fill: #FFB103\"></path>\n",
       " </g>\n",
       " </svg>\n",
       " </span>\n",
       " </span></div></div></div>,\n",
       " <div class=\"jobsearch-SerpJobCard unifiedRow row result\" data-jk=\"464acfc11a244d4a\" data-tn-component=\"organicJob\" id=\"p_464acfc11a244d4a\">\n",
       " <h2 class=\"title\">\n",
       " <a class=\"jobtitle turnstileLink\" data-tn-element=\"jobTitle\" href=\"/rc/clk?jk=464acfc11a244d4a&amp;fccid=f2cbb7715eae48aa&amp;vjs=3\" id=\"jl_464acfc11a244d4a\" onclick=\"setRefineByCookie([]); return rclk(this,jobmap[12],true,0);\" onmousedown=\"return rclk(this,jobmap[12],0);\" rel=\"noopener nofollow\" target=\"_blank\" title=\"Business Analyst - Consumer Products\">\n",
       " Business <b>Analyst</b> - Consumer Products</a>\n",
       " <span class=\"new\">new</span></h2>\n",
       " <div class=\"sjcl\">\n",
       " <div>\n",
       " <span class=\"company\">\n",
       " <a class=\"turnstileLink\" data-tn-element=\"companyName\" href=\"/cmp/Northwestern-Mutual\" onmousedown=\"this.href = appendParamsOnce(this.href, 'from=SERP&amp;campaignid=serp-linkcompanyname&amp;fromjk=464acfc11a244d4a&amp;jcid=f2cbb7715eae48aa')\" rel=\"noopener\" target=\"_blank\">\n",
       " Northwestern Mutual</a></span>\n",
       " <span class=\"ratingsDisplay\">\n",
       " <a aria-label=\"Company rating 3.8 out of 5 stars\" class=\"ratingNumber\" data-tn-variant=\"cmplinktst2\" href=\"/cmp/Northwestern-Mutual/reviews\" onmousedown=\"this.href = appendParamsOnce(this.href, '?campaignid=cmplinktst2&amp;from=SERP&amp;jt=Business+Analyst+-+Consumer+Products&amp;fromjk=464acfc11a244d4a&amp;jcid=f2cbb7715eae48aa');\" rel=\"noopener\" target=\"_blank\" title=\"Northwestern Mutual reviews\"></a>\n",
       " <span class=\"ratingsContent\">\n",
       " 3.8<svg class=\"starIcon\" height=\"12px\" role=\"img\" width=\"12px\">\n",
       " <g>\n",
       " <path d=\"M 12.00,4.34 C 12.00,4.34 7.69,3.97 7.69,3.97 7.69,3.97 6.00,0.00 6.00,0.00 6.00,0.00 4.31,3.98 4.31,3.98 4.31,3.98 0.00,4.34 0.00,4.34 0.00,4.34 3.28,7.18 3.28,7.18 3.28,7.18 2.29,11.40 2.29,11.40 2.29,11.40 6.00,9.16 6.00,9.16 6.00,9.16 9.71,11.40 9.71,11.40 9.71,11.40 8.73,7.18 8.73,7.18 8.73,7.18 12.00,4.34 12.00,4.34 Z\" style=\"fill: #FFB103\"></path>\n",
       " </g>\n",
       " </svg>\n",
       " </span>\n",
       " </span></div></div></div>,\n",
       " <div class=\"jobsearch-SerpJobCard unifiedRow row result\" data-jk=\"725c11045fa32af6\" data-tn-component=\"organicJob\" id=\"p_725c11045fa32af6\">\n",
       " <h2 class=\"title\">\n",
       " <a class=\"jobtitle turnstileLink\" data-tn-element=\"jobTitle\" href=\"/rc/clk?jk=725c11045fa32af6&amp;fccid=495c822d6af912f0&amp;vjs=3\" id=\"jl_725c11045fa32af6\" onclick=\"setRefineByCookie([]); return rclk(this,jobmap[13],true,0);\" onmousedown=\"return rclk(this,jobmap[13],0);\" rel=\"noopener nofollow\" target=\"_blank\" title=\"Data Analyst Sr - Neonatology\">\n",
       " <b>Data</b> <b>Analyst</b> Sr - Neonatology</a>\n",
       " </h2>\n",
       " <div class=\"sjcl\">\n",
       " <div>\n",
       " <span class=\"company\">\n",
       " <a class=\"turnstileLink\" data-tn-element=\"companyName\" href=\"/cmp/Medical-College-of-Wisconsin\" onmousedown=\"this.href = appendParamsOnce(this.href, 'from=SERP&amp;campaignid=serp-linkcompanyname&amp;fromjk=725c11045fa32af6&amp;jcid=495c822d6af912f0')\" rel=\"noopener\" target=\"_blank\">\n",
       " Medical College of Wisconsin</a></span>\n",
       " <span class=\"ratingsDisplay\">\n",
       " <a aria-label=\"Company rating 3.9 out of 5 stars\" class=\"ratingNumber\" data-tn-variant=\"cmplinktst2\" href=\"/cmp/Medical-College-of-Wisconsin/reviews\" onmousedown=\"this.href = appendParamsOnce(this.href, '?campaignid=cmplinktst2&amp;from=SERP&amp;jt=Data+Analyst+Sr+-+Neonatology&amp;fromjk=725c11045fa32af6&amp;jcid=495c822d6af912f0');\" rel=\"noopener\" target=\"_blank\" title=\"Medical College of Wisconsin reviews\"></a>\n",
       " <span class=\"ratingsContent\">\n",
       " 3.9<svg class=\"starIcon\" height=\"12px\" role=\"img\" width=\"12px\">\n",
       " <g>\n",
       " <path d=\"M 12.00,4.34 C 12.00,4.34 7.69,3.97 7.69,3.97 7.69,3.97 6.00,0.00 6.00,0.00 6.00,0.00 4.31,3.98 4.31,3.98 4.31,3.98 0.00,4.34 0.00,4.34 0.00,4.34 3.28,7.18 3.28,7.18 3.28,7.18 2.29,11.40 2.29,11.40 2.29,11.40 6.00,9.16 6.00,9.16 6.00,9.16 9.71,11.40 9.71,11.40 9.71,11.40 8.73,7.18 8.73,7.18 8.73,7.18 12.00,4.34 12.00,4.34 Z\" style=\"fill: #FFB103\"></path>\n",
       " </g>\n",
       " </svg>\n",
       " </span>\n",
       " </span></div></div></div>,\n",
       " <div class=\"jobsearch-SerpJobCard unifiedRow row result\" data-jk=\"18f287262060017c\" data-tn-component=\"organicJob\" id=\"p_18f287262060017c\">\n",
       " <h2 class=\"title\">\n",
       " <a class=\"jobtitle turnstileLink\" data-tn-element=\"jobTitle\" href=\"/rc/clk?jk=18f287262060017c&amp;fccid=38b4474838e7b7a1&amp;vjs=3\" id=\"jl_18f287262060017c\" onclick=\"setRefineByCookie([]); return rclk(this,jobmap[14],true,0);\" onmousedown=\"return rclk(this,jobmap[14],0);\" rel=\"noopener nofollow\" target=\"_blank\" title=\"Marketing Research &amp; Sales Data Analyst - Variable Frequency Drives\">\n",
       " Marketing Research &amp; Sales <b>Data</b> <b>Analyst</b> - Variable Frequency...</a>\n",
       " </h2>\n",
       " <div class=\"sjcl\">\n",
       " <div>\n",
       " <span class=\"company\">\n",
       " <a class=\"turnstileLink\" data-tn-element=\"companyName\" href=\"/cmp/Abb\" onmousedown=\"this.href = appendParamsOnce(this.href, 'from=SERP&amp;campaignid=serp-linkcompanyname&amp;fromjk=18f287262060017c&amp;jcid=38b4474838e7b7a1')\" rel=\"noopener\" target=\"_blank\">\n",
       " ABB</a></span>\n",
       " <span class=\"ratingsDisplay\">\n",
       " <a aria-label=\"Company rating 4.0 out of 5 stars\" class=\"ratingNumber\" data-tn-variant=\"cmplinktst2\" href=\"/cmp/Abb/reviews\" onmousedown=\"this.href = appendParamsOnce(this.href, '?campaignid=cmplinktst2&amp;from=SERP&amp;jt=Marketing+Research+%26+Sales+Data+Analyst+-+Variable+Frequency+Drives&amp;fromjk=18f287262060017c&amp;jcid=38b4474838e7b7a1');\" rel=\"noopener\" target=\"_blank\" title=\"Abb reviews\"></a>\n",
       " <span class=\"ratingsContent\">\n",
       " 4.0<svg class=\"starIcon\" height=\"12px\" role=\"img\" width=\"12px\">\n",
       " <g>\n",
       " <path d=\"M 12.00,4.34 C 12.00,4.34 7.69,3.97 7.69,3.97 7.69,3.97 6.00,0.00 6.00,0.00 6.00,0.00 4.31,3.98 4.31,3.98 4.31,3.98 0.00,4.34 0.00,4.34 0.00,4.34 3.28,7.18 3.28,7.18 3.28,7.18 2.29,11.40 2.29,11.40 2.29,11.40 6.00,9.16 6.00,9.16 6.00,9.16 9.71,11.40 9.71,11.40 9.71,11.40 8.73,7.18 8.73,7.18 8.73,7.18 12.00,4.34 12.00,4.34 Z\" style=\"fill: #FFB103\"></path>\n",
       " </g>\n",
       " </svg>\n",
       " </span>\n",
       " </span></div></div></div>]"
      ]
     },
     "execution_count": 33,
     "metadata": {},
     "output_type": "execute_result"
    }
   ],
   "source": [
    "# One dimension of the data 'Content'\n",
    "indeed_data[0][0]"
   ]
  },
  {
   "cell_type": "code",
   "execution_count": 34,
   "metadata": {},
   "outputs": [
    {
     "data": {
      "text/plain": [
       "'Milwaukee'"
      ]
     },
     "execution_count": 34,
     "metadata": {},
     "output_type": "execute_result"
    }
   ],
   "source": [
    "# Another dimension of the data 'City'\n",
    "indeed_data[0][1]"
   ]
  },
  {
   "cell_type": "code",
   "execution_count": 35,
   "metadata": {},
   "outputs": [
    {
     "name": "stdout",
     "output_type": "stream",
     "text": [
      "100 of 1155.\n",
      "200 of 1155.\n",
      "300 of 1155.\n",
      "400 of 1155.\n",
      "500 of 1155.\n",
      "600 of 1155.\n",
      "700 of 1155.\n",
      "800 of 1155.\n",
      "900 of 1155.\n",
      "1000 of 1155.\n",
      "1100 of 1155.\n"
     ]
    }
   ],
   "source": [
    "# Lists for each category we want to extract that from our scrapped data\n",
    "cities = []\n",
    "locations = []\n",
    "companies = []\n",
    "titles = []\n",
    "salaries = []\n",
    "summaries = []\n",
    "\n",
    "pages = 0\n",
    "\n",
    "for page in indeed_data:\n",
    "    works = page[0]\n",
    "    city = page[1]\n",
    "    \n",
    "    # Counter for each 500 pages;\n",
    "    pages +=1\n",
    "    if pages % 100 == 0:\n",
    "        print(f'{pages} of {len(indeed_data)}.')\n",
    "        \n",
    "    for work in works:\n",
    "        cities.append(city)\n",
    "        locations.append(extract_location_from_result(work))\n",
    "        companies.append(extract_companies_from_result(work))\n",
    "        titles.append(extract_title_from_result(work))\n",
    "        salaries.append(extract_salaries_from_result(work))\n",
    "        summaries.append(extract_summary_from_result(work))\n",
    "\n",
    "# Building DataFrame\n",
    "columns = ['City', 'Location', 'Title', 'Company', 'Summary', 'Salary']\n",
    "data = [cities, locations, titles, companies, summaries, salaries]\n",
    "indeed_df = pd.DataFrame(dict(list(zip(columns, data))))"
   ]
  },
  {
   "cell_type": "code",
   "execution_count": 48,
   "metadata": {},
   "outputs": [],
   "source": [
    "# Writting the data not cleaned to a csv file.\n",
    "indeed_df.to_csv('job_data_final0.csv', index=False)"
   ]
  },
  {
   "cell_type": "code",
   "execution_count": 40,
   "metadata": {},
   "outputs": [],
   "source": [
    "indeed_df = pd.read_csv('job_data_final0.csv')"
   ]
  },
  {
   "cell_type": "code",
   "execution_count": 41,
   "metadata": {},
   "outputs": [],
   "source": [
    "results_df = indeed_df.copy()"
   ]
  },
  {
   "cell_type": "code",
   "execution_count": 42,
   "metadata": {},
   "outputs": [
    {
     "data": {
      "text/plain": [
       "City           0\n",
       "Location    6007\n",
       "Title          0\n",
       "Company        0\n",
       "Summary     4724\n",
       "Salary      5743\n",
       "dtype: int64"
      ]
     },
     "execution_count": 42,
     "metadata": {},
     "output_type": "execute_result"
    }
   ],
   "source": [
    "results_df.isna().sum()"
   ]
  },
  {
   "cell_type": "markdown",
   "metadata": {},
   "source": [
    "##### comment\n",
    "I can see many NaN values, specially in the topic that most interest us which is salary."
   ]
  },
  {
   "cell_type": "code",
   "execution_count": 43,
   "metadata": {},
   "outputs": [
    {
     "data": {
      "text/plain": [
       "Data Analyst                                                1881\n",
       "Data Analyst Intern                                          224\n",
       "Business Analyst                                             209\n",
       "Junior Data Analyst                                          151\n",
       "Financial Data Analyst                                       134\n",
       "                                                            ... \n",
       "Data Analytics Technologies, Big Data - Senior Associate       1\n",
       "Senior Specialist, Federal Data Analytics / Governance         1\n",
       "Web Data Analyst (South of Milwaukee)                          1\n",
       "Senior IT Business Analyst (Revenue Cycle Applications)        1\n",
       "eCommerce Sales Analyst                                        1\n",
       "Name: Title, Length: 117, dtype: int64"
      ]
     },
     "execution_count": 43,
     "metadata": {},
     "output_type": "execute_result"
    }
   ],
   "source": [
    "results_df['Title'].value_counts()"
   ]
  },
  {
   "cell_type": "code",
   "execution_count": 44,
   "metadata": {},
   "outputs": [
    {
     "data": {
      "text/html": [
       "<div>\n",
       "<style scoped>\n",
       "    .dataframe tbody tr th:only-of-type {\n",
       "        vertical-align: middle;\n",
       "    }\n",
       "\n",
       "    .dataframe tbody tr th {\n",
       "        vertical-align: top;\n",
       "    }\n",
       "\n",
       "    .dataframe thead th {\n",
       "        text-align: right;\n",
       "    }\n",
       "</style>\n",
       "<table border=\"1\" class=\"dataframe\">\n",
       "  <thead>\n",
       "    <tr style=\"text-align: right;\">\n",
       "      <th></th>\n",
       "      <th>City</th>\n",
       "      <th>Location</th>\n",
       "      <th>Title</th>\n",
       "      <th>Company</th>\n",
       "      <th>Summary</th>\n",
       "      <th>Salary</th>\n",
       "    </tr>\n",
       "  </thead>\n",
       "  <tbody>\n",
       "    <tr>\n",
       "      <th>6763</th>\n",
       "      <td>San+Antonio</td>\n",
       "      <td>NaN</td>\n",
       "      <td>Financial Analyst</td>\n",
       "      <td>Finlays, Americas</td>\n",
       "      <td>Ability to analyze and interpret data.Ability ...</td>\n",
       "      <td>Up to $59,000 a year</td>\n",
       "    </tr>\n",
       "    <tr>\n",
       "      <th>6764</th>\n",
       "      <td>San+Antonio</td>\n",
       "      <td>NaN</td>\n",
       "      <td>Data Analyst - San Antonio, TX</td>\n",
       "      <td>UnitedHealth Group</td>\n",
       "      <td>NaN</td>\n",
       "      <td>NaN</td>\n",
       "    </tr>\n",
       "    <tr>\n",
       "      <th>6765</th>\n",
       "      <td>San+Antonio</td>\n",
       "      <td>NaN</td>\n",
       "      <td>Telecom Data Analyst</td>\n",
       "      <td>I.T. Personnel Solutions</td>\n",
       "      <td>6 months data entry experience.Perform accurat...</td>\n",
       "      <td>NaN</td>\n",
       "    </tr>\n",
       "    <tr>\n",
       "      <th>6766</th>\n",
       "      <td>San+Antonio</td>\n",
       "      <td>NaN</td>\n",
       "      <td>Data Development Analyst</td>\n",
       "      <td>BRS</td>\n",
       "      <td>NaN</td>\n",
       "      <td>NaN</td>\n",
       "    </tr>\n",
       "    <tr>\n",
       "      <th>6767</th>\n",
       "      <td>San+Antonio</td>\n",
       "      <td>NaN</td>\n",
       "      <td>Data Analyst</td>\n",
       "      <td>Huntington Ingalls Industries Inc.</td>\n",
       "      <td>NaN</td>\n",
       "      <td>NaN</td>\n",
       "    </tr>\n",
       "  </tbody>\n",
       "</table>\n",
       "</div>"
      ],
      "text/plain": [
       "             City Location                           Title  \\\n",
       "6763  San+Antonio      NaN               Financial Analyst   \n",
       "6764  San+Antonio      NaN  Data Analyst - San Antonio, TX   \n",
       "6765  San+Antonio      NaN            Telecom Data Analyst   \n",
       "6766  San+Antonio      NaN        Data Development Analyst   \n",
       "6767  San+Antonio      NaN                    Data Analyst   \n",
       "\n",
       "                                 Company  \\\n",
       "6763                   Finlays, Americas   \n",
       "6764                  UnitedHealth Group   \n",
       "6765            I.T. Personnel Solutions   \n",
       "6766                                 BRS   \n",
       "6767  Huntington Ingalls Industries Inc.   \n",
       "\n",
       "                                                Summary                Salary  \n",
       "6763  Ability to analyze and interpret data.Ability ...  Up to $59,000 a year  \n",
       "6764                                                NaN                   NaN  \n",
       "6765  6 months data entry experience.Perform accurat...                   NaN  \n",
       "6766                                                NaN                   NaN  \n",
       "6767                                                NaN                   NaN  "
      ]
     },
     "execution_count": 44,
     "metadata": {},
     "output_type": "execute_result"
    }
   ],
   "source": [
    "results_df.tail()"
   ]
  },
  {
   "cell_type": "code",
   "execution_count": 45,
   "metadata": {},
   "outputs": [
    {
     "data": {
      "text/plain": [
       "(6768, 6)"
      ]
     },
     "execution_count": 45,
     "metadata": {},
     "output_type": "execute_result"
    }
   ],
   "source": [
    "results_df.shape"
   ]
  },
  {
   "cell_type": "code",
   "execution_count": 46,
   "metadata": {},
   "outputs": [
    {
     "data": {
      "text/html": [
       "<div>\n",
       "<style scoped>\n",
       "    .dataframe tbody tr th:only-of-type {\n",
       "        vertical-align: middle;\n",
       "    }\n",
       "\n",
       "    .dataframe tbody tr th {\n",
       "        vertical-align: top;\n",
       "    }\n",
       "\n",
       "    .dataframe thead th {\n",
       "        text-align: right;\n",
       "    }\n",
       "</style>\n",
       "<table border=\"1\" class=\"dataframe\">\n",
       "  <thead>\n",
       "    <tr style=\"text-align: right;\">\n",
       "      <th></th>\n",
       "      <th>Salary</th>\n",
       "    </tr>\n",
       "    <tr>\n",
       "      <th>City</th>\n",
       "      <th></th>\n",
       "    </tr>\n",
       "  </thead>\n",
       "  <tbody>\n",
       "    <tr>\n",
       "      <th>Cincinnati</th>\n",
       "      <td>47</td>\n",
       "    </tr>\n",
       "    <tr>\n",
       "      <th>Cleveland</th>\n",
       "      <td>61</td>\n",
       "    </tr>\n",
       "    <tr>\n",
       "      <th>Columbus</th>\n",
       "      <td>42</td>\n",
       "    </tr>\n",
       "    <tr>\n",
       "      <th>Houston</th>\n",
       "      <td>306</td>\n",
       "    </tr>\n",
       "    <tr>\n",
       "      <th>Milwaukee</th>\n",
       "      <td>0</td>\n",
       "    </tr>\n",
       "    <tr>\n",
       "      <th>Pittsburgh</th>\n",
       "      <td>520</td>\n",
       "    </tr>\n",
       "    <tr>\n",
       "      <th>San+Antonio</th>\n",
       "      <td>49</td>\n",
       "    </tr>\n",
       "    <tr>\n",
       "      <th>St.+Louis</th>\n",
       "      <td>0</td>\n",
       "    </tr>\n",
       "  </tbody>\n",
       "</table>\n",
       "</div>"
      ],
      "text/plain": [
       "             Salary\n",
       "City               \n",
       "Cincinnati       47\n",
       "Cleveland        61\n",
       "Columbus         42\n",
       "Houston         306\n",
       "Milwaukee         0\n",
       "Pittsburgh      520\n",
       "San+Antonio      49\n",
       "St.+Louis         0"
      ]
     },
     "execution_count": 46,
     "metadata": {},
     "output_type": "execute_result"
    }
   ],
   "source": [
    "# Checking the number salaries the dataframe has by city\n",
    "results_df.groupby('City')[['Salary']].count()"
   ]
  },
  {
   "cell_type": "code",
   "execution_count": 47,
   "metadata": {},
   "outputs": [
    {
     "data": {
      "text/plain": [
       "$80,000 - $110,000 a year    195\n",
       "$75,000 - $100,000 a year     69\n",
       "$27 - $32 an hour             68\n",
       "$70,000 - $100,000 a year     68\n",
       "$40 - $50 an hour             68\n",
       "$55,000 - $70,000 a year      64\n",
       "$65,000 - $75,000 a year      63\n",
       "$43,694 - $64,000 a year      63\n",
       "$60,000 - $70,000 a year      61\n",
       "$75,000 a year                53\n",
       "$55 - $70 an hour             53\n",
       "Up to $59,000 a year          46\n",
       "$38 - $60 an hour             35\n",
       "$14 - $16 an hour             32\n",
       "$70 - $72 an hour             28\n",
       "$17.50 an hour                14\n",
       "$60 - $90 an hour             14\n",
       "$24 - $30 an hour             14\n",
       "$35,000 - $50,000 a year       7\n",
       "$40 - $45 an hour              5\n",
       "$48,000 - $52,000 a year       3\n",
       "$10 an hour                    2\n",
       "Name: Salary, dtype: int64"
      ]
     },
     "execution_count": 47,
     "metadata": {},
     "output_type": "execute_result"
    }
   ],
   "source": [
    "# 4. Cleaning and organizing data\n",
    "results_df['Salary'].value_counts()"
   ]
  },
  {
   "cell_type": "code",
   "execution_count": 48,
   "metadata": {},
   "outputs": [],
   "source": [
    "indeed_slim = results_df.copy()"
   ]
  },
  {
   "cell_type": "code",
   "execution_count": 49,
   "metadata": {},
   "outputs": [
    {
     "data": {
      "text/plain": [
       "6007"
      ]
     },
     "execution_count": 49,
     "metadata": {},
     "output_type": "execute_result"
    }
   ],
   "source": [
    "indeed_slim['Location'].isna().sum()"
   ]
  },
  {
   "cell_type": "code",
   "execution_count": 50,
   "metadata": {},
   "outputs": [
    {
     "data": {
      "text/plain": [
       "(6768, 6)"
      ]
     },
     "execution_count": 50,
     "metadata": {},
     "output_type": "execute_result"
    }
   ],
   "source": [
    "indeed_slim.shape"
   ]
  },
  {
   "cell_type": "code",
   "execution_count": 51,
   "metadata": {},
   "outputs": [],
   "source": [
    "# Since I have already have 'City', I'll be removing the feature Location just because It has a lot of None values.\n",
    "del indeed_slim['Location']"
   ]
  },
  {
   "cell_type": "code",
   "execution_count": 52,
   "metadata": {},
   "outputs": [
    {
     "data": {
      "text/html": [
       "<div>\n",
       "<style scoped>\n",
       "    .dataframe tbody tr th:only-of-type {\n",
       "        vertical-align: middle;\n",
       "    }\n",
       "\n",
       "    .dataframe tbody tr th {\n",
       "        vertical-align: top;\n",
       "    }\n",
       "\n",
       "    .dataframe thead th {\n",
       "        text-align: right;\n",
       "    }\n",
       "</style>\n",
       "<table border=\"1\" class=\"dataframe\">\n",
       "  <thead>\n",
       "    <tr style=\"text-align: right;\">\n",
       "      <th></th>\n",
       "      <th>City</th>\n",
       "      <th>Title</th>\n",
       "      <th>Company</th>\n",
       "      <th>Summary</th>\n",
       "      <th>Salary</th>\n",
       "    </tr>\n",
       "  </thead>\n",
       "  <tbody>\n",
       "    <tr>\n",
       "      <th>0</th>\n",
       "      <td>Milwaukee</td>\n",
       "      <td>Data Analyst</td>\n",
       "      <td>ManpowerGroup</td>\n",
       "      <td>NaN</td>\n",
       "      <td>NaN</td>\n",
       "    </tr>\n",
       "    <tr>\n",
       "      <th>1</th>\n",
       "      <td>Milwaukee</td>\n",
       "      <td>Data Analyst</td>\n",
       "      <td>NTT DATA Services</td>\n",
       "      <td>NaN</td>\n",
       "      <td>NaN</td>\n",
       "    </tr>\n",
       "    <tr>\n",
       "      <th>2</th>\n",
       "      <td>Milwaukee</td>\n",
       "      <td>Financial Data Analyst</td>\n",
       "      <td>Independent Care Health Plan</td>\n",
       "      <td>NaN</td>\n",
       "      <td>NaN</td>\n",
       "    </tr>\n",
       "    <tr>\n",
       "      <th>3</th>\n",
       "      <td>Milwaukee</td>\n",
       "      <td>Facilities Analyst Internship - Paid (South of...</td>\n",
       "      <td>Uline</td>\n",
       "      <td>NaN</td>\n",
       "      <td>NaN</td>\n",
       "    </tr>\n",
       "    <tr>\n",
       "      <th>4</th>\n",
       "      <td>Milwaukee</td>\n",
       "      <td>Technical Business Analyst, Jr</td>\n",
       "      <td>Sprecher Brewing Company</td>\n",
       "      <td>NaN</td>\n",
       "      <td>NaN</td>\n",
       "    </tr>\n",
       "    <tr>\n",
       "      <th>...</th>\n",
       "      <td>...</td>\n",
       "      <td>...</td>\n",
       "      <td>...</td>\n",
       "      <td>...</td>\n",
       "      <td>...</td>\n",
       "    </tr>\n",
       "    <tr>\n",
       "      <th>6763</th>\n",
       "      <td>San+Antonio</td>\n",
       "      <td>Financial Analyst</td>\n",
       "      <td>Finlays, Americas</td>\n",
       "      <td>Ability to analyze and interpret data.Ability ...</td>\n",
       "      <td>Up to $59,000 a year</td>\n",
       "    </tr>\n",
       "    <tr>\n",
       "      <th>6764</th>\n",
       "      <td>San+Antonio</td>\n",
       "      <td>Data Analyst - San Antonio, TX</td>\n",
       "      <td>UnitedHealth Group</td>\n",
       "      <td>NaN</td>\n",
       "      <td>NaN</td>\n",
       "    </tr>\n",
       "    <tr>\n",
       "      <th>6765</th>\n",
       "      <td>San+Antonio</td>\n",
       "      <td>Telecom Data Analyst</td>\n",
       "      <td>I.T. Personnel Solutions</td>\n",
       "      <td>6 months data entry experience.Perform accurat...</td>\n",
       "      <td>NaN</td>\n",
       "    </tr>\n",
       "    <tr>\n",
       "      <th>6766</th>\n",
       "      <td>San+Antonio</td>\n",
       "      <td>Data Development Analyst</td>\n",
       "      <td>BRS</td>\n",
       "      <td>NaN</td>\n",
       "      <td>NaN</td>\n",
       "    </tr>\n",
       "    <tr>\n",
       "      <th>6767</th>\n",
       "      <td>San+Antonio</td>\n",
       "      <td>Data Analyst</td>\n",
       "      <td>Huntington Ingalls Industries Inc.</td>\n",
       "      <td>NaN</td>\n",
       "      <td>NaN</td>\n",
       "    </tr>\n",
       "  </tbody>\n",
       "</table>\n",
       "<p>6768 rows × 5 columns</p>\n",
       "</div>"
      ],
      "text/plain": [
       "             City                                              Title  \\\n",
       "0       Milwaukee                                       Data Analyst   \n",
       "1       Milwaukee                                       Data Analyst   \n",
       "2       Milwaukee                             Financial Data Analyst   \n",
       "3       Milwaukee  Facilities Analyst Internship - Paid (South of...   \n",
       "4       Milwaukee                     Technical Business Analyst, Jr   \n",
       "...           ...                                                ...   \n",
       "6763  San+Antonio                                  Financial Analyst   \n",
       "6764  San+Antonio                     Data Analyst - San Antonio, TX   \n",
       "6765  San+Antonio                               Telecom Data Analyst   \n",
       "6766  San+Antonio                           Data Development Analyst   \n",
       "6767  San+Antonio                                       Data Analyst   \n",
       "\n",
       "                                 Company  \\\n",
       "0                          ManpowerGroup   \n",
       "1                      NTT DATA Services   \n",
       "2           Independent Care Health Plan   \n",
       "3                                  Uline   \n",
       "4               Sprecher Brewing Company   \n",
       "...                                  ...   \n",
       "6763                   Finlays, Americas   \n",
       "6764                  UnitedHealth Group   \n",
       "6765            I.T. Personnel Solutions   \n",
       "6766                                 BRS   \n",
       "6767  Huntington Ingalls Industries Inc.   \n",
       "\n",
       "                                                Summary                Salary  \n",
       "0                                                   NaN                   NaN  \n",
       "1                                                   NaN                   NaN  \n",
       "2                                                   NaN                   NaN  \n",
       "3                                                   NaN                   NaN  \n",
       "4                                                   NaN                   NaN  \n",
       "...                                                 ...                   ...  \n",
       "6763  Ability to analyze and interpret data.Ability ...  Up to $59,000 a year  \n",
       "6764                                                NaN                   NaN  \n",
       "6765  6 months data entry experience.Perform accurat...                   NaN  \n",
       "6766                                                NaN                   NaN  \n",
       "6767                                                NaN                   NaN  \n",
       "\n",
       "[6768 rows x 5 columns]"
      ]
     },
     "execution_count": 52,
     "metadata": {},
     "output_type": "execute_result"
    }
   ],
   "source": [
    "indeed_slim"
   ]
  },
  {
   "cell_type": "code",
   "execution_count": 53,
   "metadata": {},
   "outputs": [
    {
     "name": "stdout",
     "output_type": "stream",
     "text": [
      "before dropping duplicates: (6768, 5)\n",
      "after dropping duplicates: (179, 5)\n"
     ]
    }
   ],
   "source": [
    "print(f'before dropping duplicates: {indeed_slim.shape}')\n",
    "indeed_slim.drop_duplicates(subset=['City', 'Title', 'Company', 'Salary'], keep='first', inplace=True)\n",
    "print(f'after dropping duplicates: {indeed_slim.shape}')"
   ]
  },
  {
   "cell_type": "code",
   "execution_count": 54,
   "metadata": {},
   "outputs": [
    {
     "data": {
      "text/plain": [
       "City         0\n",
       "Title        0\n",
       "Company      0\n",
       "Summary    131\n",
       "Salary     154\n",
       "dtype: int64"
      ]
     },
     "execution_count": 54,
     "metadata": {},
     "output_type": "execute_result"
    }
   ],
   "source": [
    "indeed_slim.isna().sum()"
   ]
  },
  {
   "cell_type": "code",
   "execution_count": 55,
   "metadata": {},
   "outputs": [
    {
     "data": {
      "text/plain": [
       "Cleveland      30\n",
       "Houston        25\n",
       "San+Antonio    23\n",
       "St.+Louis      23\n",
       "Milwaukee      22\n",
       "Pittsburgh     21\n",
       "Columbus       18\n",
       "Cincinnati     17\n",
       "Name: City, dtype: int64"
      ]
     },
     "execution_count": 55,
     "metadata": {},
     "output_type": "execute_result"
    }
   ],
   "source": [
    "indeed_slim['City'].value_counts()"
   ]
  },
  {
   "cell_type": "code",
   "execution_count": 56,
   "metadata": {},
   "outputs": [],
   "source": [
    "# Writting the data not totally cleaned to a csv file.\n",
    "indeed_slim.to_csv('job_data_final1.csv', index=False)"
   ]
  },
  {
   "cell_type": "markdown",
   "metadata": {},
   "source": [
    "# 4. Cleaning DataFrame"
   ]
  },
  {
   "cell_type": "code",
   "execution_count": 70,
   "metadata": {},
   "outputs": [],
   "source": [
    "# Continuing the work\n",
    "indeed_slim = pd.read_csv('./job_data_final1.csv')"
   ]
  },
  {
   "cell_type": "code",
   "execution_count": 71,
   "metadata": {},
   "outputs": [
    {
     "data": {
      "text/plain": [
       "City         0\n",
       "Title        0\n",
       "Company      0\n",
       "Summary    131\n",
       "Salary     154\n",
       "dtype: int64"
      ]
     },
     "execution_count": 71,
     "metadata": {},
     "output_type": "execute_result"
    }
   ],
   "source": [
    "indeed_slim.isna().sum()"
   ]
  },
  {
   "cell_type": "code",
   "execution_count": 72,
   "metadata": {},
   "outputs": [
    {
     "data": {
      "text/plain": [
       "25"
      ]
     },
     "execution_count": 72,
     "metadata": {},
     "output_type": "execute_result"
    }
   ],
   "source": [
    "# The cities that we would like to have the salary we won't have much of it.\n",
    "indeed_slim['Salary'].notnull().sum()"
   ]
  },
  {
   "cell_type": "code",
   "execution_count": 217,
   "metadata": {},
   "outputs": [],
   "source": [
    "# Removing records where the salary is None\n",
    "temp = indeed_slim.Salary.notnull()\n",
    "indeed_filtered = indeed_slim[temp]"
   ]
  },
  {
   "cell_type": "markdown",
   "metadata": {},
   "source": [
    "Now, since I don't have much data left I have to work the converting hour to year Salary"
   ]
  },
  {
   "cell_type": "code",
   "execution_count": 218,
   "metadata": {},
   "outputs": [],
   "source": [
    "indeed_filtered['Salary'] = indeed_filtered['Salary'].str.replace(' a year', '')\n",
    "indeed_filtered['Salary'] = indeed_filtered['Salary'].str.replace(' an hour', '')\n",
    "indeed_filtered['Salary'] = indeed_filtered['Salary'].str.replace('$', '')\n",
    "indeed_filtered['Salary'] = indeed_filtered['Salary'].str.replace('Up to ', '')\n",
    "indeed_filtered['Salary'] = indeed_filtered['Salary'].str.replace(',', '')"
   ]
  },
  {
   "cell_type": "code",
   "execution_count": 219,
   "metadata": {},
   "outputs": [],
   "source": [
    "avg_salary = []\n",
    "\n",
    "for i in indeed_filtered['Salary']:\n",
    "    temp = i.split()\n",
    "    if len(temp) == 3:\n",
    "        temp_summed = (float(temp[0]) + float(temp[2]))/2\n",
    "        if temp_summed < 200:\n",
    "            temp_summed = temp_summed*52*40\n",
    "    else:\n",
    "        if float(temp[0]) < 20:\n",
    "            temp_summed = float(temp[0])*52*40\n",
    "        else:\n",
    "            temp_summed = float(temp[0])\n",
    "    avg_salary.append(temp_summed)\n",
    "\n",
    "indeed_filtered['Salary'] = avg_salary"
   ]
  },
  {
   "cell_type": "code",
   "execution_count": 220,
   "metadata": {},
   "outputs": [
    {
     "data": {
      "text/plain": [
       "61     65000.00000\n",
       "76     87500.00000\n",
       "77     85000.00000\n",
       "79     61360.00000\n",
       "80     93600.00000\n",
       "81     95000.00000\n",
       "83     95000.00000\n",
       "84     95000.00000\n",
       "87     62500.00000\n",
       "93     20800.00000\n",
       "98     95000.00000\n",
       "99     36400.00000\n",
       "106    56160.00000\n",
       "112    88400.00000\n",
       "116   147680.00000\n",
       "128   156000.00000\n",
       "133   130000.00000\n",
       "135    75000.00000\n",
       "136    53847.00000\n",
       "137    70000.00000\n",
       "145   101920.00000\n",
       "146    31200.00000\n",
       "153    42500.00000\n",
       "165    59000.00000\n",
       "174    50000.00000\n",
       "Name: Salary, dtype: float64"
      ]
     },
     "execution_count": 220,
     "metadata": {},
     "output_type": "execute_result"
    }
   ],
   "source": [
    "indeed_filtered['Salary']"
   ]
  },
  {
   "cell_type": "code",
   "execution_count": 225,
   "metadata": {},
   "outputs": [
    {
     "data": {
      "text/html": [
       "<div>\n",
       "<style scoped>\n",
       "    .dataframe tbody tr th:only-of-type {\n",
       "        vertical-align: middle;\n",
       "    }\n",
       "\n",
       "    .dataframe tbody tr th {\n",
       "        vertical-align: top;\n",
       "    }\n",
       "\n",
       "    .dataframe thead th {\n",
       "        text-align: right;\n",
       "    }\n",
       "</style>\n",
       "<table border=\"1\" class=\"dataframe\">\n",
       "  <thead>\n",
       "    <tr style=\"text-align: right;\">\n",
       "      <th></th>\n",
       "      <th>City</th>\n",
       "      <th>Title</th>\n",
       "      <th>Company</th>\n",
       "      <th>Summary</th>\n",
       "      <th>Salary</th>\n",
       "    </tr>\n",
       "  </thead>\n",
       "  <tbody>\n",
       "    <tr>\n",
       "      <th>61</th>\n",
       "      <td>Cleveland</td>\n",
       "      <td>Business Analyst ( Manufacturing/ Sales &amp; Serv...</td>\n",
       "      <td>Air Technologies</td>\n",
       "      <td>Operations Support Analyst The Operations Supp...</td>\n",
       "      <td>$65,000.00</td>\n",
       "    </tr>\n",
       "    <tr>\n",
       "      <th>76</th>\n",
       "      <td>Pittsburgh</td>\n",
       "      <td>Senior Data Analyst - Onsite/Remote Considered</td>\n",
       "      <td>Arkos Health, Inc.</td>\n",
       "      <td>5-6 years of professional experience in a busi...</td>\n",
       "      <td>$87,500.00</td>\n",
       "    </tr>\n",
       "    <tr>\n",
       "      <th>77</th>\n",
       "      <td>Pittsburgh</td>\n",
       "      <td>Data Analyst - SQL &amp; PowerBI</td>\n",
       "      <td>eNGINE</td>\n",
       "      <td>Your toolbox should include at least 3 years o...</td>\n",
       "      <td>$85,000.00</td>\n",
       "    </tr>\n",
       "    <tr>\n",
       "      <th>79</th>\n",
       "      <td>Pittsburgh</td>\n",
       "      <td>Business Analyst - Electronic Data Capture</td>\n",
       "      <td>eNGINE</td>\n",
       "      <td>3+ years of prior electronic data capture expe...</td>\n",
       "      <td>$61,360.00</td>\n",
       "    </tr>\n",
       "    <tr>\n",
       "      <th>80</th>\n",
       "      <td>Pittsburgh</td>\n",
       "      <td>Data Modeler/Analyst</td>\n",
       "      <td>eNGINE</td>\n",
       "      <td>This will include analyzing data sources, impl...</td>\n",
       "      <td>$93,600.00</td>\n",
       "    </tr>\n",
       "  </tbody>\n",
       "</table>\n",
       "</div>"
      ],
      "text/plain": [
       "          City                                              Title  \\\n",
       "61   Cleveland  Business Analyst ( Manufacturing/ Sales & Serv...   \n",
       "76  Pittsburgh     Senior Data Analyst - Onsite/Remote Considered   \n",
       "77  Pittsburgh                       Data Analyst - SQL & PowerBI   \n",
       "79  Pittsburgh         Business Analyst - Electronic Data Capture   \n",
       "80  Pittsburgh                               Data Modeler/Analyst   \n",
       "\n",
       "               Company                                            Summary  \\\n",
       "61    Air Technologies  Operations Support Analyst The Operations Supp...   \n",
       "76  Arkos Health, Inc.  5-6 years of professional experience in a busi...   \n",
       "77              eNGINE  Your toolbox should include at least 3 years o...   \n",
       "79              eNGINE  3+ years of prior electronic data capture expe...   \n",
       "80              eNGINE  This will include analyzing data sources, impl...   \n",
       "\n",
       "       Salary  \n",
       "61 $65,000.00  \n",
       "76 $87,500.00  \n",
       "77 $85,000.00  \n",
       "79 $61,360.00  \n",
       "80 $93,600.00  "
      ]
     },
     "execution_count": 225,
     "metadata": {},
     "output_type": "execute_result"
    }
   ],
   "source": [
    "# Formating float\n",
    "pd.options.display.float_format = '${:,.2f}'.format\n",
    "indeed_filtered.head()"
   ]
  },
  {
   "cell_type": "code",
   "execution_count": 233,
   "metadata": {},
   "outputs": [
    {
     "data": {
      "text/plain": [
       "Company\n",
       "Air Technologies               $65,000.00\n",
       "Application Verification       $20,800.00\n",
       "Arkos Health, Inc.             $87,500.00\n",
       "Clarity Grid Solutions, Inc    $42,500.00\n",
       "Conserve Associates LLC       $130,000.00\n",
       "Finlays, Americas              $59,000.00\n",
       "First Notch Technology LLC     $56,160.00\n",
       "Lancer Worldwide               $50,000.00\n",
       "Lawyer Legion                  $31,200.00\n",
       "Microsolutiontek               $70,000.00\n",
       "Newmark Homes                  $75,000.00\n",
       "Redbridge USA Inc.             $53,847.00\n",
       "Sage IT                        $88,400.00\n",
       "Staffing Resource Group        $36,400.00\n",
       "Strategic Systems, Inc.       $156,000.00\n",
       "YantraTek LLC                 $101,920.00\n",
       "eNGINE                         $85,307.50\n",
       "iTalent Tech LLC              $147,680.00\n",
       "Name: Salary, dtype: float64"
      ]
     },
     "execution_count": 233,
     "metadata": {},
     "output_type": "execute_result"
    }
   ],
   "source": [
    "# Group by Company and wage average\n",
    "data = indeed_filtered.groupby(['Company'])['Salary'].sum()/indeed_filtered.groupby(['Company'])['Salary'].count()\n",
    "data"
   ]
  },
  {
   "cell_type": "code",
   "execution_count": 239,
   "metadata": {},
   "outputs": [
    {
     "data": {
      "image/png": "[encoded data removed]",
      "text/plain": [
       "<Figure size 840x480 with 1 Axes>"
      ]
     },
     "metadata": {
      "image/png": {
       "height": 462,
       "width": 716
      }
     },
     "output_type": "display_data"
    }
   ],
   "source": [
    "from scipy.stats import norm\n",
    "sns.distplot(data, kde=False, fit=norm);"
   ]
  },
  {
   "cell_type": "markdown",
   "metadata": {},
   "source": [
    "This is a first part of our project. Next step, we will perform some EDAs on it, make sure to check that out."
   ]
  }
 ],
 "metadata": {
  "kernelspec": {
   "display_name": "Python 3",
   "language": "python",
   "name": "python3"
  },
  "language_info": {
   "codemirror_mode": {
    "name": "ipython",
    "version": 3
   },
   "file_extension": ".py",
   "mimetype": "text/x-python",
   "name": "python",
   "nbconvert_exporter": "python",
   "pygments_lexer": "ipython3",
   "version": "3.8.3"
  }
 },
 "nbformat": 4,
 "nbformat_minor": 4
}
